{
 "cells": [
  {
   "cell_type": "code",
   "execution_count": 63,
   "metadata": {},
   "outputs": [],
   "source": [
    "from sklearn.metrics import accuracy_score\n",
    "import xgboost as xgb\n",
    "from sklearn.model_selection import train_test_split\n",
    "import numpy as np\n",
    "import matplotlib.pyplot as plt\n",
    "import pandas as pd\n",
    "from sklearn.metrics import roc_auc_score, roc_curve, auc\n",
    "import matplotlib.pyplot as plt\n",
    "from sklearn.metrics import RocCurveDisplay"
   ]
  },
  {
   "cell_type": "code",
   "execution_count": 64,
   "metadata": {},
   "outputs": [],
   "source": [
    "def xgb_auc(X,Y):\n",
    "    X_train, X_test, Y_train, Y_test = train_test_split(X, Y, test_size=0.2, random_state=42)\n",
    "\n",
    "    scale_pos_weight = (Y_train == 0).sum() / (Y_train == 1).sum()\n",
    "\n",
    "    # Modèle XGBoost\n",
    "    model = xgb.XGBClassifier(\n",
    "        use_label_encoder=False,\n",
    "        objective='binary:logistic',\n",
    "        eval_metric='auc',\n",
    "        #eval_metric=\"logloss\",\n",
    "        #scale_pos_weight=scale_pos_weight,\n",
    "        random_state=42,\n",
    "        #max_depth = 1\n",
    "    )\n",
    "    model.fit(X_train, Y_train)\n",
    "\n",
    "    Y_pred_proba = model.predict_proba(X_test)[:, 1]\n",
    "\n",
    "    auc = roc_auc_score(Y_test, Y_pred_proba)\n",
    "    \n",
    "    Y_preds = model.predict(X_test)\n",
    "\n",
    "    accuracy= accuracy_score(Y_test,Y_preds)\n",
    "\n",
    "    print(f\"AUC du modèle : {auc:.4f}\")\n",
    "    print(f'Accuracy :', accuracy*100)\n",
    "\n",
    "    fpr, tpr, thresholds = roc_curve(Y_test, Y_pred_proba)\n",
    "    roc_display = RocCurveDisplay(fpr=fpr, tpr=tpr)\n",
    "\n",
    "    plt.figure(figsize=(8, 6))\n",
    "    roc_display.plot()\n",
    "    plt.plot([0, 1], [0, 1], color=\"gray\", lw=1.5, linestyle=\"--\")\n",
    "    plt.title(f\"Courbe ROC AUC = {auc:.4f}\")\n",
    "    plt.grid(True)\n",
    "    plt.show()"
   ]
  },
  {
   "cell_type": "code",
   "execution_count": 65,
   "metadata": {},
   "outputs": [],
   "source": [
    "belgium = pd.read_csv('/home/onyxia/work/Federated_Learning_Milliman/data/belgium_data.csv')\n",
    "italian = pd.read_csv('/home/onyxia/work/Federated_Learning_Milliman/data/european_data.csv')\n",
    "french = pd.read_csv('/home/onyxia/work/Federated_Learning_Milliman/data/french_data.csv')"
   ]
  },
  {
   "cell_type": "code",
   "execution_count": 66,
   "metadata": {},
   "outputs": [
    {
     "data": {
      "text/html": [
       "<div>\n",
       "<style scoped>\n",
       "    .dataframe tbody tr th:only-of-type {\n",
       "        vertical-align: middle;\n",
       "    }\n",
       "\n",
       "    .dataframe tbody tr th {\n",
       "        vertical-align: top;\n",
       "    }\n",
       "\n",
       "    .dataframe thead th {\n",
       "        text-align: right;\n",
       "    }\n",
       "</style>\n",
       "<table border=\"1\" class=\"dataframe\">\n",
       "  <thead>\n",
       "    <tr style=\"text-align: right;\">\n",
       "      <th></th>\n",
       "      <th>Exposure</th>\n",
       "      <th>Power</th>\n",
       "      <th>DriverAge</th>\n",
       "      <th>Fuel_type</th>\n",
       "      <th>Density</th>\n",
       "      <th>Sex</th>\n",
       "      <th>Sinistre</th>\n",
       "    </tr>\n",
       "  </thead>\n",
       "  <tbody>\n",
       "    <tr>\n",
       "      <th>0</th>\n",
       "      <td>1.000000</td>\n",
       "      <td>77</td>\n",
       "      <td>50</td>\n",
       "      <td>0</td>\n",
       "      <td>13928</td>\n",
       "      <td>1</td>\n",
       "      <td>1</td>\n",
       "    </tr>\n",
       "    <tr>\n",
       "      <th>1</th>\n",
       "      <td>1.000000</td>\n",
       "      <td>66</td>\n",
       "      <td>64</td>\n",
       "      <td>0</td>\n",
       "      <td>13928</td>\n",
       "      <td>0</td>\n",
       "      <td>0</td>\n",
       "    </tr>\n",
       "    <tr>\n",
       "      <th>2</th>\n",
       "      <td>1.000000</td>\n",
       "      <td>70</td>\n",
       "      <td>60</td>\n",
       "      <td>1</td>\n",
       "      <td>13928</td>\n",
       "      <td>1</td>\n",
       "      <td>0</td>\n",
       "    </tr>\n",
       "    <tr>\n",
       "      <th>3</th>\n",
       "      <td>1.000000</td>\n",
       "      <td>57</td>\n",
       "      <td>77</td>\n",
       "      <td>0</td>\n",
       "      <td>13928</td>\n",
       "      <td>1</td>\n",
       "      <td>0</td>\n",
       "    </tr>\n",
       "    <tr>\n",
       "      <th>4</th>\n",
       "      <td>0.046575</td>\n",
       "      <td>70</td>\n",
       "      <td>28</td>\n",
       "      <td>0</td>\n",
       "      <td>13928</td>\n",
       "      <td>0</td>\n",
       "      <td>1</td>\n",
       "    </tr>\n",
       "    <tr>\n",
       "      <th>...</th>\n",
       "      <td>...</td>\n",
       "      <td>...</td>\n",
       "      <td>...</td>\n",
       "      <td>...</td>\n",
       "      <td>...</td>\n",
       "      <td>...</td>\n",
       "      <td>...</td>\n",
       "    </tr>\n",
       "    <tr>\n",
       "      <th>163207</th>\n",
       "      <td>1.000000</td>\n",
       "      <td>40</td>\n",
       "      <td>37</td>\n",
       "      <td>1</td>\n",
       "      <td>259</td>\n",
       "      <td>1</td>\n",
       "      <td>0</td>\n",
       "    </tr>\n",
       "    <tr>\n",
       "      <th>163208</th>\n",
       "      <td>1.000000</td>\n",
       "      <td>55</td>\n",
       "      <td>44</td>\n",
       "      <td>1</td>\n",
       "      <td>259</td>\n",
       "      <td>1</td>\n",
       "      <td>0</td>\n",
       "    </tr>\n",
       "    <tr>\n",
       "      <th>163209</th>\n",
       "      <td>1.000000</td>\n",
       "      <td>40</td>\n",
       "      <td>50</td>\n",
       "      <td>1</td>\n",
       "      <td>259</td>\n",
       "      <td>1</td>\n",
       "      <td>0</td>\n",
       "    </tr>\n",
       "    <tr>\n",
       "      <th>163210</th>\n",
       "      <td>1.000000</td>\n",
       "      <td>66</td>\n",
       "      <td>43</td>\n",
       "      <td>0</td>\n",
       "      <td>259</td>\n",
       "      <td>1</td>\n",
       "      <td>0</td>\n",
       "    </tr>\n",
       "    <tr>\n",
       "      <th>163211</th>\n",
       "      <td>1.000000</td>\n",
       "      <td>47</td>\n",
       "      <td>24</td>\n",
       "      <td>0</td>\n",
       "      <td>259</td>\n",
       "      <td>1</td>\n",
       "      <td>1</td>\n",
       "    </tr>\n",
       "  </tbody>\n",
       "</table>\n",
       "<p>163212 rows × 7 columns</p>\n",
       "</div>"
      ],
      "text/plain": [
       "        Exposure  Power  DriverAge  Fuel_type  Density  Sex  Sinistre\n",
       "0       1.000000     77         50          0    13928    1         1\n",
       "1       1.000000     66         64          0    13928    0         0\n",
       "2       1.000000     70         60          1    13928    1         0\n",
       "3       1.000000     57         77          0    13928    1         0\n",
       "4       0.046575     70         28          0    13928    0         1\n",
       "...          ...    ...        ...        ...      ...  ...       ...\n",
       "163207  1.000000     40         37          1      259    1         0\n",
       "163208  1.000000     55         44          1      259    1         0\n",
       "163209  1.000000     40         50          1      259    1         0\n",
       "163210  1.000000     66         43          0      259    1         0\n",
       "163211  1.000000     47         24          0      259    1         1\n",
       "\n",
       "[163212 rows x 7 columns]"
      ]
     },
     "execution_count": 66,
     "metadata": {},
     "output_type": "execute_result"
    }
   ],
   "source": [
    "belgium"
   ]
  },
  {
   "cell_type": "code",
   "execution_count": 67,
   "metadata": {},
   "outputs": [],
   "source": [
    "belgium[\"log_exposure\"] = np.log(belgium[\"Exposure\"])\n",
    "\n",
    "X_be = belgium.drop(columns=[\"Exposure\",\"Sinistre\"])\n",
    "Y_be = belgium['Sinistre']\n",
    "\n",
    "italian[\"log_exposure\"] = np.log(italian[\"Exposure\"])\n",
    "\n",
    "X_it = italian.drop(columns=[\"Exposure\",\"Sinistre\"])\n",
    "Y_it = italian['Sinistre']\n",
    "\n",
    "french[\"log_exposure\"] = np.log(french[\"Exposure\"])\n",
    "\n",
    "X_fr = french.drop(columns=[\"Exposure\",\"Sinistre\"])\n",
    "Y_fr = french['Sinistre']"
   ]
  },
  {
   "cell_type": "markdown",
   "metadata": {},
   "source": [
    "# Belgium"
   ]
  },
  {
   "cell_type": "code",
   "execution_count": 68,
   "metadata": {},
   "outputs": [],
   "source": [
    "X_train_be, X_test_be, Y_train_be, Y_test_be = train_test_split(X_be, Y_be, test_size=0.2, random_state=42)"
   ]
  },
  {
   "cell_type": "code",
   "execution_count": 69,
   "metadata": {},
   "outputs": [
    {
     "name": "stderr",
     "output_type": "stream",
     "text": [
      "/opt/conda/lib/python3.12/site-packages/xgboost/core.py:158: UserWarning: [10:21:08] WARNING: /home/conda/feedstock_root/build_artifacts/xgboost-split_1738880431132/work/src/learner.cc:740: \n",
      "Parameters: { \"use_label_encoder\" } are not used.\n",
      "\n",
      "  warnings.warn(smsg, UserWarning)\n"
     ]
    }
   ],
   "source": [
    "scale_pos_weight = (Y_train_be == 0).sum() / (Y_train_be == 1).sum()\n",
    "\n",
    "# Modèle XGBoost\n",
    "model = xgb.XGBClassifier(\n",
    "    use_label_encoder=False,\n",
    "    eval_metric=\"logloss\",\n",
    "    #scale_pos_weight=scale_pos_weight,\n",
    "    random_state=42\n",
    ")\n",
    "model.fit(X_train_be, Y_train_be)\n",
    "\n",
    "# Prédiction des probabilités\n",
    "Y_pred_proba_be = model.predict_proba(X_test_be)[:, 1]\n",
    "\n",
    "# AUC\n",
    "auc_be = roc_auc_score(Y_test_be, Y_pred_proba_be)"
   ]
  },
  {
   "cell_type": "code",
   "execution_count": 70,
   "metadata": {},
   "outputs": [
    {
     "name": "stdout",
     "output_type": "stream",
     "text": [
      "AUC du modèle : 0.5933\n"
     ]
    }
   ],
   "source": [
    "print(f\"AUC du modèle : {auc_be:.4f}\")"
   ]
  },
  {
   "cell_type": "code",
   "execution_count": 71,
   "metadata": {},
   "outputs": [
    {
     "name": "stdout",
     "output_type": "stream",
     "text": [
      "Accuracy of the model be is: 88.77554146371351\n"
     ]
    }
   ],
   "source": [
    "Y_preds_be = model.predict(X_test_be)\n",
    "\n",
    "accuracy_be= accuracy_score(Y_test_be,Y_preds_be)\n",
    "print('Accuracy of the model be is:', accuracy_be*100)"
   ]
  },
  {
   "cell_type": "markdown",
   "metadata": {},
   "source": [
    "# Italian"
   ]
  },
  {
   "cell_type": "code",
   "execution_count": 72,
   "metadata": {},
   "outputs": [],
   "source": [
    "X_train_it, X_test_it, Y_train_it, Y_test_it = train_test_split(X_it, Y_it, test_size=0.2, random_state=42)"
   ]
  },
  {
   "cell_type": "code",
   "execution_count": 73,
   "metadata": {},
   "outputs": [
    {
     "name": "stderr",
     "output_type": "stream",
     "text": [
      "/opt/conda/lib/python3.12/site-packages/xgboost/core.py:158: UserWarning: [10:21:09] WARNING: /home/conda/feedstock_root/build_artifacts/xgboost-split_1738880431132/work/src/learner.cc:740: \n",
      "Parameters: { \"use_label_encoder\" } are not used.\n",
      "\n",
      "  warnings.warn(smsg, UserWarning)\n"
     ]
    }
   ],
   "source": [
    "scale_pos_weight = (Y_train_it == 0).sum() / (Y_train_it == 1).sum()\n",
    "\n",
    "# Modèle XGBoost\n",
    "model = xgb.XGBClassifier(\n",
    "    use_label_encoder=False,\n",
    "    eval_metric=\"logloss\",\n",
    "    #scale_pos_weight=scale_pos_weight,\n",
    "    random_state=42\n",
    ")\n",
    "model.fit(X_train_it, Y_train_it)\n",
    "\n",
    "# Prédiction des probabilités\n",
    "Y_pred_proba_it = model.predict_proba(X_test_it)[:, 1]\n",
    "\n",
    "# AUC\n",
    "auc_it = roc_auc_score(Y_test_it, Y_pred_proba_it)"
   ]
  },
  {
   "cell_type": "code",
   "execution_count": 74,
   "metadata": {},
   "outputs": [
    {
     "name": "stdout",
     "output_type": "stream",
     "text": [
      "AUC du modèle be : 0.6619\n"
     ]
    }
   ],
   "source": [
    "print(f\"AUC du modèle be : {auc_it:.4f}\")"
   ]
  },
  {
   "cell_type": "code",
   "execution_count": 75,
   "metadata": {},
   "outputs": [
    {
     "name": "stdout",
     "output_type": "stream",
     "text": [
      "Accuracy of the model be is: 92.31522838361705\n"
     ]
    }
   ],
   "source": [
    "Y_preds_it = model.predict(X_test_it)\n",
    "\n",
    "accuracy_it= accuracy_score(Y_test_it,Y_preds_it)\n",
    "print('Accuracy of the model be is:', accuracy_it*100)"
   ]
  },
  {
   "cell_type": "markdown",
   "metadata": {},
   "source": [
    "# ALL"
   ]
  },
  {
   "cell_type": "code",
   "execution_count": 76,
   "metadata": {},
   "outputs": [
    {
     "name": "stderr",
     "output_type": "stream",
     "text": [
      "/opt/conda/lib/python3.12/site-packages/xgboost/core.py:158: UserWarning: [10:21:12] WARNING: /home/conda/feedstock_root/build_artifacts/xgboost-split_1738880431132/work/src/learner.cc:740: \n",
      "Parameters: { \"use_label_encoder\" } are not used.\n",
      "\n",
      "  warnings.warn(smsg, UserWarning)\n"
     ]
    },
    {
     "name": "stdout",
     "output_type": "stream",
     "text": [
      "AUC du modèle : 0.6619\n",
      "Accuracy : 92.31522838361705\n"
     ]
    },
    {
     "name": "stderr",
     "output_type": "stream",
     "text": [
      "/opt/conda/lib/python3.12/site-packages/sklearn/metrics/_plot/roc_curve.py:189: UserWarning: No artists with labels found to put in legend.  Note that artists whose label start with an underscore are ignored when legend() is called with no argument.\n",
      "  self.ax_.legend(loc=\"lower right\")\n"
     ]
    },
    {
     "data": {
      "text/plain": [
       "<Figure size 800x600 with 0 Axes>"
      ]
     },
     "metadata": {},
     "output_type": "display_data"
    },
    {
     "data": {
      "image/png": "[encoded data removed]",
      "text/plain": [
       "<Figure size 640x480 with 1 Axes>"
      ]
     },
     "metadata": {},
     "output_type": "display_data"
    }
   ],
   "source": [
    "xgb_auc(X_it,Y_it)"
   ]
  },
  {
   "cell_type": "code",
   "execution_count": 77,
   "metadata": {},
   "outputs": [
    {
     "name": "stderr",
     "output_type": "stream",
     "text": [
      "/opt/conda/lib/python3.12/site-packages/xgboost/core.py:158: UserWarning: [10:21:14] WARNING: /home/conda/feedstock_root/build_artifacts/xgboost-split_1738880431132/work/src/learner.cc:740: \n",
      "Parameters: { \"use_label_encoder\" } are not used.\n",
      "\n",
      "  warnings.warn(smsg, UserWarning)\n"
     ]
    },
    {
     "name": "stdout",
     "output_type": "stream",
     "text": [
      "AUC du modèle : 0.5933\n",
      "Accuracy : 88.77554146371351\n"
     ]
    },
    {
     "name": "stderr",
     "output_type": "stream",
     "text": [
      "/opt/conda/lib/python3.12/site-packages/sklearn/metrics/_plot/roc_curve.py:189: UserWarning: No artists with labels found to put in legend.  Note that artists whose label start with an underscore are ignored when legend() is called with no argument.\n",
      "  self.ax_.legend(loc=\"lower right\")\n"
     ]
    },
    {
     "data": {
      "text/plain": [
       "<Figure size 800x600 with 0 Axes>"
      ]
     },
     "metadata": {},
     "output_type": "display_data"
    },
    {
     "data": {
      "image/png": "[encoded data removed]",
      "text/plain": [
       "<Figure size 640x480 with 1 Axes>"
      ]
     },
     "metadata": {},
     "output_type": "display_data"
    }
   ],
   "source": [
    "xgb_auc(X_be,Y_be)"
   ]
  },
  {
   "cell_type": "code",
   "execution_count": 78,
   "metadata": {},
   "outputs": [
    {
     "name": "stderr",
     "output_type": "stream",
     "text": [
      "/opt/conda/lib/python3.12/site-packages/xgboost/core.py:158: UserWarning: [10:21:15] WARNING: /home/conda/feedstock_root/build_artifacts/xgboost-split_1738880431132/work/src/learner.cc:740: \n",
      "Parameters: { \"use_label_encoder\" } are not used.\n",
      "\n",
      "  warnings.warn(smsg, UserWarning)\n"
     ]
    },
    {
     "name": "stdout",
     "output_type": "stream",
     "text": [
      "AUC du modèle : 0.6502\n",
      "Accuracy : 95.47372810293396\n"
     ]
    },
    {
     "name": "stderr",
     "output_type": "stream",
     "text": [
      "/opt/conda/lib/python3.12/site-packages/sklearn/metrics/_plot/roc_curve.py:189: UserWarning: No artists with labels found to put in legend.  Note that artists whose label start with an underscore are ignored when legend() is called with no argument.\n",
      "  self.ax_.legend(loc=\"lower right\")\n"
     ]
    },
    {
     "data": {
      "text/plain": [
       "<Figure size 800x600 with 0 Axes>"
      ]
     },
     "metadata": {},
     "output_type": "display_data"
    },
    {
     "data": {
      "image/png": "[encoded data removed]",
      "text/plain": [
       "<Figure size 640x480 with 1 Axes>"
      ]
     },
     "metadata": {},
     "output_type": "display_data"
    }
   ],
   "source": [
    "xgb_auc(X_fr,Y_fr)"
   ]
  },
  {
   "cell_type": "markdown",
   "metadata": {},
   "source": [
    "# TEST"
   ]
  },
  {
   "cell_type": "code",
   "execution_count": 79,
   "metadata": {},
   "outputs": [
    {
     "name": "stdout",
     "output_type": "stream",
     "text": [
      "\n",
      " AUC du modèle : 0.6520\n"
     ]
    }
   ],
   "source": [
    "\n",
    "df = pd.read_csv(\"/home/onyxia/work/Federated_Learning_Milliman/data/european_data.csv\")\n",
    "\n",
    "#df[\"log_exposure\"] = np.log(df[\"Exposure\"])\n",
    "\n",
    "\n",
    "features = [\"Exposure\",\"Power\", \"DriverAge\", \"Fuel_type\", \"Sex\"]\n",
    "X = df[features]\n",
    "y = df[\"Sinistre\"]\n",
    "\n",
    "X_train, X_test, y_train, y_test = train_test_split(\n",
    "    X, y, test_size=0.2, random_state=42\n",
    ")\n",
    "\n",
    "offset_train = np.log(X_train[\"Exposure\"])\n",
    "offset_test = np.log(X_test[\"Exposure\"])\n",
    "\n",
    "dtrain = xgb.DMatrix(X_train, label=y_train)\n",
    "dtest = xgb.DMatrix(X_test, label=y_test)\n",
    "\n",
    "dtrain.set_float_info(\"base_margin\", offset_train)\n",
    "dtest.set_float_info(\"base_margin\", offset_test)\n",
    "\n",
    "\n",
    "scale_pos_weight = (y_train == 0).sum() / (y_train == 1).sum()\n",
    "\n",
    "params = {\n",
    "    \"objective\": \"binary:logistic\",\n",
    "    \"eval_metric\": \"auc\",\n",
    "    \"max_depth\": 4,\n",
    "    \"scale_pos_weight\": scale_pos_weight,\n",
    "    \"seed\": 42\n",
    "}\n",
    "\n",
    "evallist = [(dtrain, \"train\"), (dtest, \"eval\")]\n",
    "model = xgb.train(\n",
    "    params=params,\n",
    "    dtrain=dtrain,\n",
    "    num_boost_round=300,\n",
    "    evals=evallist,\n",
    "    early_stopping_rounds=20,\n",
    "    verbose_eval=False\n",
    ")\n",
    "\n",
    "y_proba = model.predict(dtest)\n",
    "\n",
    "auc = roc_auc_score(y_test, y_proba)\n",
    "print(f\"\\n AUC du modèle : {auc:.4f}\")\n"
   ]
  },
  {
   "cell_type": "code",
   "execution_count": null,
   "metadata": {},
   "outputs": [],
   "source": []
  }
 ],
 "metadata": {
  "kernelspec": {
   "display_name": "base",
   "language": "python",
   "name": "python3"
  },
  "language_info": {
   "codemirror_mode": {
    "name": "ipython",
    "version": 3
   },
   "file_extension": ".py",
   "mimetype": "text/x-python",
   "name": "python",
   "nbconvert_exporter": "python",
   "pygments_lexer": "ipython3",
   "version": "3.12.7"
  }
 },
 "nbformat": 4,
 "nbformat_minor": 2
}
