{
 "cells": [
  {
   "cell_type": "code",
   "execution_count": 151,
   "metadata": {},
   "outputs": [
    {
     "name": "stdout",
     "output_type": "stream",
     "text": [
      "Requirement already satisfied: pyreadr in /opt/conda/lib/python3.12/site-packages (0.5.3)\n",
      "Requirement already satisfied: pandas>=1.2.0 in /opt/conda/lib/python3.12/site-packages (from pyreadr) (2.2.3)\n",
      "Requirement already satisfied: numpy>=1.26.0 in /opt/conda/lib/python3.12/site-packages (from pandas>=1.2.0->pyreadr) (2.2.3)\n",
      "Requirement already satisfied: python-dateutil>=2.8.2 in /opt/conda/lib/python3.12/site-packages (from pandas>=1.2.0->pyreadr) (2.9.0.post0)\n",
      "Requirement already satisfied: pytz>=2020.1 in /opt/conda/lib/python3.12/site-packages (from pandas>=1.2.0->pyreadr) (2024.1)\n",
      "Requirement already satisfied: tzdata>=2022.7 in /opt/conda/lib/python3.12/site-packages (from pandas>=1.2.0->pyreadr) (2025.1)\n",
      "Requirement already satisfied: six>=1.5 in /opt/conda/lib/python3.12/site-packages (from python-dateutil>=2.8.2->pandas>=1.2.0->pyreadr) (1.17.0)\n"
     ]
    }
   ],
   "source": [
    "!pip install pyreadr"
   ]
  },
  {
   "cell_type": "code",
   "execution_count": 152,
   "metadata": {},
   "outputs": [],
   "source": [
    "import pandas as pd\n",
    "import seaborn as sns\n",
    "import matplotlib.pyplot as plt\n",
    "import pyreadr\n",
    "import numpy as np"
   ]
  },
  {
   "cell_type": "markdown",
   "metadata": {},
   "source": [
    "# Data cleaning"
   ]
  },
  {
   "cell_type": "markdown",
   "metadata": {},
   "source": [
    "# Collect data"
   ]
  },
  {
   "cell_type": "markdown",
   "metadata": {},
   "source": [
    "Dataset documentation : \"https://cas.uqam.ca/pub/web/CASdatasets-manual.pdf\"\n",
    "\n",
    "Here, we concentrate on 3 different datasets on Motor Insurers : \n",
    "- `freMPL` (*French Motor Personal Line datasets*): This collection of ten datasets comes from a private motor French insurer. Each dataset includes risk features, claim amount and claim history of around 30,000 policies for year 2004. We decided to concacenate the differents freMPL datasets to focus on statistics.\n",
    "- `beMTPL16` (*Belgian motor third-part liability dataset*): The dataset beMTPL was collected by an unknown Belgium insurer. It consists of 70 791 claims for private motor insurance.\n",
    "- `euMTPL` (*European motor TPL insurance*): The euMTPL compiles three years of experience from a European MTPL (Motor Third Party Liability) portfolio, including frequency and severity values for different types of losses. The data was collected during the first decade of the 21st century."
   ]
  },
  {
   "cell_type": "code",
   "execution_count": 153,
   "metadata": {},
   "outputs": [],
   "source": [
    "# Change the paths to the location of the data on your machine\n",
    "be_path = \"/home/onyxia/work/Federated_Learning_Milliman/data_comparaison/beMTPL97.rda\"\n",
    "eu_path = \"/home/onyxia/work/Federated_Learning_Milliman/data_comparaison/euMTPL.rda\"\n",
    "fre_path = \"/home/onyxia/work/Federated_Learning_Milliman/data_comparaison/freMPL.csv\"\n",
    "file_paths = [be_path, eu_path]"
   ]
  },
  {
   "cell_type": "code",
   "execution_count": 154,
   "metadata": {},
   "outputs": [],
   "source": [
    "def load_rda(file_paths):\n",
    "  dataframes = {}\n",
    "  for file_path in file_paths:\n",
    "      result = pyreadr.read_r(file_path)\n",
    "      for key in result.keys():\n",
    "          dataframes[key] = result[key]\n",
    "  return dataframes"
   ]
  },
  {
   "cell_type": "code",
   "execution_count": 155,
   "metadata": {},
   "outputs": [],
   "source": [
    "df_fre=pd.read_csv(fre_path)"
   ]
  },
  {
   "cell_type": "code",
   "execution_count": 156,
   "metadata": {},
   "outputs": [],
   "source": [
    "df_0 = load_rda(file_paths)\n",
    "dataframes = {\n",
    "    \"French\": df_fre,\n",
    "    \"Belgium\": df_0[\"beMTPL97\"],\n",
    "    \"European\": df_0[\"euMTPL\"]\n",
    "}"
   ]
  },
  {
   "cell_type": "code",
   "execution_count": 157,
   "metadata": {},
   "outputs": [
    {
     "name": "stdout",
     "output_type": "stream",
     "text": [
      "French columns: Index(['Exposure', 'LicAge', 'RecordBeg', 'Gender', 'MariStat', 'SocioCateg',\n",
      "       'VehUsage', 'DrivAge', 'HasKmLimit', 'BonusMalus', 'ClaimAmount',\n",
      "       'ClaimInd'],\n",
      "      dtype='object')\n",
      "Belgium columns: Index(['id', 'expo', 'claim', 'nclaims', 'amount', 'average', 'coverage',\n",
      "       'ageph', 'sex', 'bm', 'power', 'agec', 'fuel', 'use', 'fleet',\n",
      "       'postcode', 'long', 'lat'],\n",
      "      dtype='object')\n",
      "European columns: Index(['policy_id', 'group', 'fuel_type', 'year', 'vehicle_category',\n",
      "       'vehicle_use', 'province', 'horsepower', 'gender', 'age', 'exposure',\n",
      "       'cost_nc', 'num_nc', 'cost_cg', 'num_cg', 'cost_fcg', 'num_fcg',\n",
      "       'cost_cd', 'num_cd'],\n",
      "      dtype='object')\n"
     ]
    }
   ],
   "source": [
    "print(\"French columns:\", dataframes[\"French\"].columns)\n",
    "print(\"Belgium columns:\", dataframes[\"Belgium\"].columns)\n",
    "print(\"European columns:\", dataframes[\"European\"].columns)\n"
   ]
  },
  {
   "cell_type": "code",
   "execution_count": 158,
   "metadata": {},
   "outputs": [
    {
     "name": "stdout",
     "output_type": "stream",
     "text": [
      "French columns: (243065, 12)\n",
      "be columns: (163212, 18)\n",
      "eu columns: (2373197, 19)\n"
     ]
    }
   ],
   "source": [
    "print(\"French columns:\", np.shape(dataframes[\"French\"]))\n",
    "print(\"be columns:\", np.shape(dataframes[\"Belgium\"]))\n",
    "print(\"eu columns:\", np.shape(dataframes[\"European\"]))\n"
   ]
  },
  {
   "cell_type": "code",
   "execution_count": 159,
   "metadata": {},
   "outputs": [],
   "source": [
    "dataframes[\"European\"][\"cost_claim\"] = dataframes[\"European\"][\"cost_nc\"] + dataframes[\"European\"][\"cost_cg\"] + dataframes[\"European\"][\"cost_fcg\"] + dataframes[\"European\"][\"cost_cd\"] \n"
   ]
  },
  {
   "cell_type": "code",
   "execution_count": 160,
   "metadata": {},
   "outputs": [
    {
     "data": {
      "text/plain": [
       "count    2.373197e+06\n",
       "mean     3.058943e+02\n",
       "std      4.005364e+03\n",
       "min     -1.034309e+04\n",
       "25%      0.000000e+00\n",
       "50%      0.000000e+00\n",
       "75%      0.000000e+00\n",
       "max      1.452709e+06\n",
       "Name: cost_claim, dtype: float64"
      ]
     },
     "execution_count": 160,
     "metadata": {},
     "output_type": "execute_result"
    }
   ],
   "source": [
    "dataframes[\"European\"][\"cost_claim\"].describe()"
   ]
  },
  {
   "cell_type": "markdown",
   "metadata": {},
   "source": [
    "# Choice of the variables to compare & Data Cleaning"
   ]
  },
  {
   "cell_type": "markdown",
   "metadata": {},
   "source": [
    "Since the datasets are not identical, we need to select a common variable that will serve as the basis for comparison.\n",
    "The target target variables are : \n",
    "- `Exposure` (*French :*`Exposure`, *Belgium :*`expo`, *European :*`exposure`): a numeric time of exposure, in years. -- **integer**\n",
    "- `DriverAge` (*French :*`DrivAge`, *Belgium :*`ageph`, *European :*`age`): age of the driver -- **integer**\n",
    "- `Gender` (*French :*`Gender`, *Belgium :*`sex`, *European :*`gender`): gender of the driver -- **{Male: 0,Female: 1}**\n",
    "- `VehiculeUsage` (*French :*`VehUsage`, *Belgium :*`use`, *European :*`vehicle_use`): age of the driver -- **integer**\n",
    "- `ClaimAmout` (*French :*`ClaimAmount`, *Belgium :*``, *European :*`cost_...`(differnt variables)):Total claim amount of the guarantee -- **real number**. For the european dataset, We will sum all the different `cost`variables to agregate all the sinisters.\n",
    "\n",
    "Since the datasets have different variables, it is challenging to compare them accurately. Moreover, the French database had to be concatenated, and some variables had to be removed, for example."
   ]
  },
  {
   "cell_type": "code",
   "execution_count": 161,
   "metadata": {},
   "outputs": [],
   "source": [
    "french_data = dataframes[\"French\"].rename(columns={\n",
    "    'Exposure': 'Exposure',\n",
    "    'DrivAge': 'DriverAge',\n",
    "    'Gender': 'Gender',\n",
    "    'VehUsage': 'VehiculeUsage',\n",
    "    'ClaimAmount': 'ClaimAmount'\n",
    "})[['Exposure', 'DriverAge', 'Gender', 'VehiculeUsage', 'ClaimAmount']]\n",
    "\n",
    "belgium_data = dataframes[\"Belgium\"].rename(columns={\n",
    "    'expo': 'Exposure',\n",
    "    'ageph': 'DriverAge',\n",
    "    'sex': 'Gender',\n",
    "    'use': 'VehiculeUsage',\n",
    "    'amount': 'ClaimAmount'\n",
    "})[['Exposure', 'DriverAge', 'Gender', 'VehiculeUsage', 'ClaimAmount']]\n",
    "\n",
    "european_data = dataframes[\"European\"].rename(columns={\n",
    "    'exposure': 'Exposure',\n",
    "    'age': 'DriverAge',\n",
    "    'gender': 'Gender',\n",
    "    'vehicle_use': 'VehiculeUsage',\n",
    "    'cost_claim': 'ClaimAmount'\n",
    "})[['Exposure', 'DriverAge', 'Gender', 'VehiculeUsage', 'ClaimAmount']]\n"
   ]
  },
  {
   "cell_type": "markdown",
   "metadata": {},
   "source": [
    "### Sample the European data to approximize the size of the French and Belgium data"
   ]
  },
  {
   "cell_type": "code",
   "execution_count": 162,
   "metadata": {},
   "outputs": [
    {
     "name": "stdout",
     "output_type": "stream",
     "text": [
      "French Proportion : 37.77 %\n",
      "Belgium Proportion : 25.36 %\n",
      "European Proportion : 36.87 %\n"
     ]
    }
   ],
   "source": [
    "reduction_factor = 10\n",
    "sample_size = len(european_data) // reduction_factor\n",
    "european_data = european_data.sample(sample_size)\n",
    "\n",
    "french_size = len(french_data)\n",
    "belgium_size = len(belgium_data)\n",
    "european_size = len(european_data)\n",
    "\n",
    "total_size = french_size + belgium_size + european_size\n",
    "\n",
    "french_proportion = 100 * (french_size / total_size)\n",
    "belgium_proportion = 100 * (belgium_size / total_size)\n",
    "european_proportion = 100 * (european_size / total_size)\n",
    "\n",
    "print(\"French Proportion :\", round(french_proportion, 2), \"%\")\n",
    "print(\"Belgium Proportion :\", round(belgium_proportion, 2), \"%\")\n",
    "print(\"European Proportion :\", round(european_proportion, 2), \"%\")\n"
   ]
  },
  {
   "cell_type": "markdown",
   "metadata": {},
   "source": [
    "### Rename variables values"
   ]
  },
  {
   "cell_type": "code",
   "execution_count": 163,
   "metadata": {},
   "outputs": [
    {
     "name": "stderr",
     "output_type": "stream",
     "text": [
      "/tmp/ipykernel_93611/2461441814.py:5: FutureWarning: Downcasting behavior in `replace` is deprecated and will be removed in a future version. To retain the old behavior, explicitly call `result.infer_objects(copy=False)`. To opt-in to the future behavior, set `pd.set_option('future.no_silent_downcasting', True)`\n",
      "  french_data['Gender'] = french_data['Gender'].replace({'Female': 1, 'Male': 0})\n",
      "/tmp/ipykernel_93611/2461441814.py:6: FutureWarning: Downcasting behavior in `replace` is deprecated and will be removed in a future version. To retain the old behavior, explicitly call `result.infer_objects(copy=False)`. To opt-in to the future behavior, set `pd.set_option('future.no_silent_downcasting', True)`\n",
      "  belgium_data['Gender'] = belgium_data['Gender'].replace({'female': 1, 'male': 0})\n",
      "/tmp/ipykernel_93611/2461441814.py:6: FutureWarning: The behavior of Series.replace (and DataFrame.replace) with CategoricalDtype is deprecated. In a future version, replace will only be used for cases that preserve the categories. To change the categories, use ser.cat.rename_categories instead.\n",
      "  belgium_data['Gender'] = belgium_data['Gender'].replace({'female': 1, 'male': 0})\n",
      "/tmp/ipykernel_93611/2461441814.py:7: FutureWarning: Downcasting behavior in `replace` is deprecated and will be removed in a future version. To retain the old behavior, explicitly call `result.infer_objects(copy=False)`. To opt-in to the future behavior, set `pd.set_option('future.no_silent_downcasting', True)`\n",
      "  european_data['Gender'] = european_data['Gender'].replace({'F': 1, 'M': 0}).astype(int)\n",
      "/tmp/ipykernel_93611/2461441814.py:7: FutureWarning: The behavior of Series.replace (and DataFrame.replace) with CategoricalDtype is deprecated. In a future version, replace will only be used for cases that preserve the categories. To change the categories, use ser.cat.rename_categories instead.\n",
      "  european_data['Gender'] = european_data['Gender'].replace({'F': 1, 'M': 0}).astype(int)\n"
     ]
    }
   ],
   "source": [
    "french_data['Sinistre'] = (french_data['ClaimAmount'] > 0).astype(int)\n",
    "belgium_data['Sinistre'] = (belgium_data['ClaimAmount'] > 0).astype(int)\n",
    "european_data['Sinistre'] = (european_data['ClaimAmount'] > 0).astype(int)\n",
    "\n",
    "french_data['Gender'] = french_data['Gender'].replace({'Female': 1, 'Male': 0})\n",
    "belgium_data['Gender'] = belgium_data['Gender'].replace({'female': 1, 'male': 0})\n",
    "european_data['Gender'] = european_data['Gender'].replace({'F': 1, 'M': 0}).astype(int)\n",
    "\n",
    "french_data['VehiculeUsage'] = french_data['VehiculeUsage'].map({\n",
    "    'Private' : 1,\n",
    "    'Private+trip to office': 1,\n",
    "    'Professional' : 0,\n",
    "    'Professional run': 0})\n",
    "\n",
    "belgium_data['VehiculeUsage'] = belgium_data['VehiculeUsage'].map({\n",
    "    'private' : 1,\n",
    "    'work' : 0})\n",
    "\n",
    "# Regroupin 0,4,5,26 values in european data\n",
    "european_data['VehiculeUsage'] = european_data['VehiculeUsage'].astype(int).replace({4: 0, 5: 0, 26: 0})\n",
    "\n",
    "\n",
    "# french_data['Dataset'] = 'french'\n",
    "# belgium_data['Dataset'] = 'belgium'\n",
    "# european_data['Dataset'] = 'european'\n",
    "\n",
    "\n",
    "\n",
    "# df_combined=pd.concat([french_data, belgium_data, european_data])\n"
   ]
  },
  {
   "cell_type": "code",
   "execution_count": 164,
   "metadata": {},
   "outputs": [],
   "source": [
    "french_data.to_csv('/home/onyxia/work/Federated_Learning_Milliman/data_clean/freMPL_common', index = False)\n",
    "belgium_data.to_csv('/home/onyxia/work/Federated_Learning_Milliman/data_clean/beMTPL_common', index = False)\n",
    "european_data.to_csv('/home/onyxia/work/Federated_Learning_Milliman/data_clean/euMTPL_common', index = False)"
   ]
  },
  {
   "cell_type": "code",
   "execution_count": 172,
   "metadata": {},
   "outputs": [],
   "source": [
    "test = pd.read_csv('/home/onyxia/work/Federated_Learning_Milliman/data_clean/beMTPL_common')"
   ]
  },
  {
   "cell_type": "code",
   "execution_count": 173,
   "metadata": {},
   "outputs": [
    {
     "data": {
      "text/html": [
       "<div>\n",
       "<style scoped>\n",
       "    .dataframe tbody tr th:only-of-type {\n",
       "        vertical-align: middle;\n",
       "    }\n",
       "\n",
       "    .dataframe tbody tr th {\n",
       "        vertical-align: top;\n",
       "    }\n",
       "\n",
       "    .dataframe thead th {\n",
       "        text-align: right;\n",
       "    }\n",
       "</style>\n",
       "<table border=\"1\" class=\"dataframe\">\n",
       "  <thead>\n",
       "    <tr style=\"text-align: right;\">\n",
       "      <th></th>\n",
       "      <th>Exposure</th>\n",
       "      <th>DriverAge</th>\n",
       "      <th>Gender</th>\n",
       "      <th>VehiculeUsage</th>\n",
       "      <th>ClaimAmount</th>\n",
       "      <th>Sinistre</th>\n",
       "    </tr>\n",
       "  </thead>\n",
       "  <tbody>\n",
       "    <tr>\n",
       "      <th>0</th>\n",
       "      <td>1.000000</td>\n",
       "      <td>50</td>\n",
       "      <td>0</td>\n",
       "      <td>1</td>\n",
       "      <td>1618.001036</td>\n",
       "      <td>1</td>\n",
       "    </tr>\n",
       "    <tr>\n",
       "      <th>1</th>\n",
       "      <td>1.000000</td>\n",
       "      <td>64</td>\n",
       "      <td>1</td>\n",
       "      <td>1</td>\n",
       "      <td>0.000000</td>\n",
       "      <td>0</td>\n",
       "    </tr>\n",
       "    <tr>\n",
       "      <th>2</th>\n",
       "      <td>1.000000</td>\n",
       "      <td>60</td>\n",
       "      <td>0</td>\n",
       "      <td>1</td>\n",
       "      <td>0.000000</td>\n",
       "      <td>0</td>\n",
       "    </tr>\n",
       "    <tr>\n",
       "      <th>3</th>\n",
       "      <td>1.000000</td>\n",
       "      <td>77</td>\n",
       "      <td>0</td>\n",
       "      <td>1</td>\n",
       "      <td>0.000000</td>\n",
       "      <td>0</td>\n",
       "    </tr>\n",
       "    <tr>\n",
       "      <th>4</th>\n",
       "      <td>0.046575</td>\n",
       "      <td>28</td>\n",
       "      <td>1</td>\n",
       "      <td>1</td>\n",
       "      <td>155.974606</td>\n",
       "      <td>1</td>\n",
       "    </tr>\n",
       "    <tr>\n",
       "      <th>...</th>\n",
       "      <td>...</td>\n",
       "      <td>...</td>\n",
       "      <td>...</td>\n",
       "      <td>...</td>\n",
       "      <td>...</td>\n",
       "      <td>...</td>\n",
       "    </tr>\n",
       "    <tr>\n",
       "      <th>163207</th>\n",
       "      <td>1.000000</td>\n",
       "      <td>37</td>\n",
       "      <td>0</td>\n",
       "      <td>0</td>\n",
       "      <td>0.000000</td>\n",
       "      <td>0</td>\n",
       "    </tr>\n",
       "    <tr>\n",
       "      <th>163208</th>\n",
       "      <td>1.000000</td>\n",
       "      <td>44</td>\n",
       "      <td>0</td>\n",
       "      <td>1</td>\n",
       "      <td>0.000000</td>\n",
       "      <td>0</td>\n",
       "    </tr>\n",
       "    <tr>\n",
       "      <th>163209</th>\n",
       "      <td>1.000000</td>\n",
       "      <td>50</td>\n",
       "      <td>0</td>\n",
       "      <td>1</td>\n",
       "      <td>0.000000</td>\n",
       "      <td>0</td>\n",
       "    </tr>\n",
       "    <tr>\n",
       "      <th>163210</th>\n",
       "      <td>1.000000</td>\n",
       "      <td>43</td>\n",
       "      <td>0</td>\n",
       "      <td>1</td>\n",
       "      <td>0.000000</td>\n",
       "      <td>0</td>\n",
       "    </tr>\n",
       "    <tr>\n",
       "      <th>163211</th>\n",
       "      <td>1.000000</td>\n",
       "      <td>24</td>\n",
       "      <td>0</td>\n",
       "      <td>1</td>\n",
       "      <td>13818.229594</td>\n",
       "      <td>1</td>\n",
       "    </tr>\n",
       "  </tbody>\n",
       "</table>\n",
       "<p>163212 rows × 6 columns</p>\n",
       "</div>"
      ],
      "text/plain": [
       "        Exposure  DriverAge  Gender  VehiculeUsage   ClaimAmount  Sinistre\n",
       "0       1.000000         50       0              1   1618.001036         1\n",
       "1       1.000000         64       1              1      0.000000         0\n",
       "2       1.000000         60       0              1      0.000000         0\n",
       "3       1.000000         77       0              1      0.000000         0\n",
       "4       0.046575         28       1              1    155.974606         1\n",
       "...          ...        ...     ...            ...           ...       ...\n",
       "163207  1.000000         37       0              0      0.000000         0\n",
       "163208  1.000000         44       0              1      0.000000         0\n",
       "163209  1.000000         50       0              1      0.000000         0\n",
       "163210  1.000000         43       0              1      0.000000         0\n",
       "163211  1.000000         24       0              1  13818.229594         1\n",
       "\n",
       "[163212 rows x 6 columns]"
      ]
     },
     "execution_count": 173,
     "metadata": {},
     "output_type": "execute_result"
    }
   ],
   "source": [
    "test"
   ]
  },
  {
   "cell_type": "code",
   "execution_count": 174,
   "metadata": {},
   "outputs": [
    {
     "data": {
      "text/html": [
       "<div>\n",
       "<style scoped>\n",
       "    .dataframe tbody tr th:only-of-type {\n",
       "        vertical-align: middle;\n",
       "    }\n",
       "\n",
       "    .dataframe tbody tr th {\n",
       "        vertical-align: top;\n",
       "    }\n",
       "\n",
       "    .dataframe thead th {\n",
       "        text-align: right;\n",
       "    }\n",
       "</style>\n",
       "<table border=\"1\" class=\"dataframe\">\n",
       "  <thead>\n",
       "    <tr style=\"text-align: right;\">\n",
       "      <th></th>\n",
       "      <th>Exposure</th>\n",
       "      <th>DriverAge</th>\n",
       "      <th>Gender</th>\n",
       "      <th>VehiculeUsage</th>\n",
       "      <th>ClaimAmount</th>\n",
       "      <th>Sinistre</th>\n",
       "    </tr>\n",
       "  </thead>\n",
       "  <tbody>\n",
       "    <tr>\n",
       "      <th>count</th>\n",
       "      <td>163212.000000</td>\n",
       "      <td>163212.000000</td>\n",
       "      <td>163212.000000</td>\n",
       "      <td>163212.000000</td>\n",
       "      <td>163212.000000</td>\n",
       "      <td>163212.000000</td>\n",
       "    </tr>\n",
       "    <tr>\n",
       "      <th>mean</th>\n",
       "      <td>0.889744</td>\n",
       "      <td>47.000950</td>\n",
       "      <td>0.264490</td>\n",
       "      <td>0.951731</td>\n",
       "      <td>162.150883</td>\n",
       "      <td>0.111977</td>\n",
       "    </tr>\n",
       "    <tr>\n",
       "      <th>std</th>\n",
       "      <td>0.244202</td>\n",
       "      <td>14.831561</td>\n",
       "      <td>0.441063</td>\n",
       "      <td>0.214334</td>\n",
       "      <td>1374.575776</td>\n",
       "      <td>0.315339</td>\n",
       "    </tr>\n",
       "    <tr>\n",
       "      <th>min</th>\n",
       "      <td>0.002740</td>\n",
       "      <td>18.000000</td>\n",
       "      <td>0.000000</td>\n",
       "      <td>0.000000</td>\n",
       "      <td>0.000000</td>\n",
       "      <td>0.000000</td>\n",
       "    </tr>\n",
       "    <tr>\n",
       "      <th>25%</th>\n",
       "      <td>1.000000</td>\n",
       "      <td>35.000000</td>\n",
       "      <td>0.000000</td>\n",
       "      <td>1.000000</td>\n",
       "      <td>0.000000</td>\n",
       "      <td>0.000000</td>\n",
       "    </tr>\n",
       "    <tr>\n",
       "      <th>50%</th>\n",
       "      <td>1.000000</td>\n",
       "      <td>46.000000</td>\n",
       "      <td>0.000000</td>\n",
       "      <td>1.000000</td>\n",
       "      <td>0.000000</td>\n",
       "      <td>0.000000</td>\n",
       "    </tr>\n",
       "    <tr>\n",
       "      <th>75%</th>\n",
       "      <td>1.000000</td>\n",
       "      <td>58.000000</td>\n",
       "      <td>1.000000</td>\n",
       "      <td>1.000000</td>\n",
       "      <td>0.000000</td>\n",
       "      <td>0.000000</td>\n",
       "    </tr>\n",
       "    <tr>\n",
       "      <th>max</th>\n",
       "      <td>1.000000</td>\n",
       "      <td>95.000000</td>\n",
       "      <td>1.000000</td>\n",
       "      <td>1.000000</td>\n",
       "      <td>140032.424473</td>\n",
       "      <td>1.000000</td>\n",
       "    </tr>\n",
       "  </tbody>\n",
       "</table>\n",
       "</div>"
      ],
      "text/plain": [
       "            Exposure      DriverAge         Gender  VehiculeUsage  \\\n",
       "count  163212.000000  163212.000000  163212.000000  163212.000000   \n",
       "mean        0.889744      47.000950       0.264490       0.951731   \n",
       "std         0.244202      14.831561       0.441063       0.214334   \n",
       "min         0.002740      18.000000       0.000000       0.000000   \n",
       "25%         1.000000      35.000000       0.000000       1.000000   \n",
       "50%         1.000000      46.000000       0.000000       1.000000   \n",
       "75%         1.000000      58.000000       1.000000       1.000000   \n",
       "max         1.000000      95.000000       1.000000       1.000000   \n",
       "\n",
       "         ClaimAmount       Sinistre  \n",
       "count  163212.000000  163212.000000  \n",
       "mean      162.150883       0.111977  \n",
       "std      1374.575776       0.315339  \n",
       "min         0.000000       0.000000  \n",
       "25%         0.000000       0.000000  \n",
       "50%         0.000000       0.000000  \n",
       "75%         0.000000       0.000000  \n",
       "max    140032.424473       1.000000  "
      ]
     },
     "execution_count": 174,
     "metadata": {},
     "output_type": "execute_result"
    }
   ],
   "source": [
    "test.describe()"
   ]
  }
 ],
 "metadata": {
  "kernelspec": {
   "display_name": "base",
   "language": "python",
   "name": "python3"
  },
  "language_info": {
   "codemirror_mode": {
    "name": "ipython",
    "version": 3
   },
   "file_extension": ".py",
   "mimetype": "text/x-python",
   "name": "python",
   "nbconvert_exporter": "python",
   "pygments_lexer": "ipython3",
   "version": "3.12.7"
  }
 },
 "nbformat": 4,
 "nbformat_minor": 2
}
