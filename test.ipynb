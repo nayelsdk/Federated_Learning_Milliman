{
 "cells": [
  {
   "cell_type": "code",
   "execution_count": 3,
   "metadata": {},
   "outputs": [],
   "source": [
    "import numpy as np\n",
    "import pandas as pd\n",
    "from sklearn.model_selection import train_test_split\n",
    "from sklearn.preprocessing import StandardScaler\n",
    "from sklearn.metrics import accuracy_score, precision_score, recall_score, f1_score"
   ]
  },
  {
   "cell_type": "code",
   "execution_count": 4,
   "metadata": {},
   "outputs": [
    {
     "data": {
      "text/html": [
       "<div>\n",
       "<style scoped>\n",
       "    .dataframe tbody tr th:only-of-type {\n",
       "        vertical-align: middle;\n",
       "    }\n",
       "\n",
       "    .dataframe tbody tr th {\n",
       "        vertical-align: top;\n",
       "    }\n",
       "\n",
       "    .dataframe thead th {\n",
       "        text-align: right;\n",
       "    }\n",
       "</style>\n",
       "<table border=\"1\" class=\"dataframe\">\n",
       "  <thead>\n",
       "    <tr style=\"text-align: right;\">\n",
       "      <th></th>\n",
       "      <th>Unnamed: 0</th>\n",
       "      <th>Exposure</th>\n",
       "      <th>DriverAge</th>\n",
       "      <th>Gender</th>\n",
       "      <th>VehiculeUsage</th>\n",
       "      <th>Sinistre</th>\n",
       "    </tr>\n",
       "  </thead>\n",
       "  <tbody>\n",
       "    <tr>\n",
       "      <th>0</th>\n",
       "      <td>0</td>\n",
       "      <td>1.000000</td>\n",
       "      <td>50</td>\n",
       "      <td>0</td>\n",
       "      <td>1</td>\n",
       "      <td>1</td>\n",
       "    </tr>\n",
       "    <tr>\n",
       "      <th>1</th>\n",
       "      <td>1</td>\n",
       "      <td>1.000000</td>\n",
       "      <td>64</td>\n",
       "      <td>1</td>\n",
       "      <td>1</td>\n",
       "      <td>0</td>\n",
       "    </tr>\n",
       "    <tr>\n",
       "      <th>2</th>\n",
       "      <td>2</td>\n",
       "      <td>1.000000</td>\n",
       "      <td>60</td>\n",
       "      <td>0</td>\n",
       "      <td>1</td>\n",
       "      <td>0</td>\n",
       "    </tr>\n",
       "    <tr>\n",
       "      <th>3</th>\n",
       "      <td>3</td>\n",
       "      <td>1.000000</td>\n",
       "      <td>77</td>\n",
       "      <td>0</td>\n",
       "      <td>1</td>\n",
       "      <td>0</td>\n",
       "    </tr>\n",
       "    <tr>\n",
       "      <th>4</th>\n",
       "      <td>4</td>\n",
       "      <td>0.046575</td>\n",
       "      <td>28</td>\n",
       "      <td>1</td>\n",
       "      <td>1</td>\n",
       "      <td>1</td>\n",
       "    </tr>\n",
       "    <tr>\n",
       "      <th>...</th>\n",
       "      <td>...</td>\n",
       "      <td>...</td>\n",
       "      <td>...</td>\n",
       "      <td>...</td>\n",
       "      <td>...</td>\n",
       "      <td>...</td>\n",
       "    </tr>\n",
       "    <tr>\n",
       "      <th>163207</th>\n",
       "      <td>163207</td>\n",
       "      <td>1.000000</td>\n",
       "      <td>37</td>\n",
       "      <td>0</td>\n",
       "      <td>0</td>\n",
       "      <td>0</td>\n",
       "    </tr>\n",
       "    <tr>\n",
       "      <th>163208</th>\n",
       "      <td>163208</td>\n",
       "      <td>1.000000</td>\n",
       "      <td>44</td>\n",
       "      <td>0</td>\n",
       "      <td>1</td>\n",
       "      <td>0</td>\n",
       "    </tr>\n",
       "    <tr>\n",
       "      <th>163209</th>\n",
       "      <td>163209</td>\n",
       "      <td>1.000000</td>\n",
       "      <td>50</td>\n",
       "      <td>0</td>\n",
       "      <td>1</td>\n",
       "      <td>0</td>\n",
       "    </tr>\n",
       "    <tr>\n",
       "      <th>163210</th>\n",
       "      <td>163210</td>\n",
       "      <td>1.000000</td>\n",
       "      <td>43</td>\n",
       "      <td>0</td>\n",
       "      <td>1</td>\n",
       "      <td>0</td>\n",
       "    </tr>\n",
       "    <tr>\n",
       "      <th>163211</th>\n",
       "      <td>163211</td>\n",
       "      <td>1.000000</td>\n",
       "      <td>24</td>\n",
       "      <td>0</td>\n",
       "      <td>1</td>\n",
       "      <td>1</td>\n",
       "    </tr>\n",
       "  </tbody>\n",
       "</table>\n",
       "<p>163212 rows × 6 columns</p>\n",
       "</div>"
      ],
      "text/plain": [
       "        Unnamed: 0  Exposure  DriverAge  Gender  VehiculeUsage  Sinistre\n",
       "0                0  1.000000         50       0              1         1\n",
       "1                1  1.000000         64       1              1         0\n",
       "2                2  1.000000         60       0              1         0\n",
       "3                3  1.000000         77       0              1         0\n",
       "4                4  0.046575         28       1              1         1\n",
       "...            ...       ...        ...     ...            ...       ...\n",
       "163207      163207  1.000000         37       0              0         0\n",
       "163208      163208  1.000000         44       0              1         0\n",
       "163209      163209  1.000000         50       0              1         0\n",
       "163210      163210  1.000000         43       0              1         0\n",
       "163211      163211  1.000000         24       0              1         1\n",
       "\n",
       "[163212 rows x 6 columns]"
      ]
     },
     "execution_count": 4,
     "metadata": {},
     "output_type": "execute_result"
    }
   ],
   "source": [
    "df=pd.read_csv('belgium_data.csv')\n",
    "df"
   ]
  },
  {
   "cell_type": "code",
   "execution_count": 5,
   "metadata": {},
   "outputs": [],
   "source": [
    "class ManualLogisticRegression:\n",
    "    \"\"\"\n",
    "    Implémentation manuelle de la régression logistique avec exposition\n",
    "    \"\"\"\n",
    "    def __init__(self, learning_rate=0.01, n_iterations=1000):\n",
    "        self.learning_rate = learning_rate\n",
    "        self.n_iterations = n_iterations\n",
    "        self.weights = None\n",
    "        self.bias = None\n",
    "    \n",
    "    def sigmoid(self, z):\n",
    "        \"\"\"\n",
    "        Fonction d'activation sigmoid: 1/(1 + e^(-z))\n",
    "        \"\"\"\n",
    "        z = np.clip(z, -500, 500)\n",
    "        return 1 / (1 + np.exp(-z))\n",
    "    \n",
    "    def fit(self, X, y, exposure):\n",
    "        \"\"\"\n",
    "        Entraîne le modèle avec descente de gradient en multipliant \n",
    "        la sigmoid par l'exposition\n",
    "        \n",
    "        Args:\n",
    "            X: Features d'entraînement\n",
    "            y: Cible d'entraînement\n",
    "            exposure: Exposition au risque (valeur entre 0 et 1)\n",
    "        \"\"\"\n",
    "        if exposure is None:\n",
    "            raise ValueError(\"L'exposition est requise pour l'entraînement\")\n",
    "        \n",
    "        # Initialiser les paramètres\n",
    "        n_samples, n_features = X.shape\n",
    "        self.weights = np.zeros(n_features)\n",
    "        self.bias = 0\n",
    "        \n",
    "        for i in range(self.n_iterations):\n",
    "            # Calculer la sortie du modèle (logits)\n",
    "            z = np.dot(X, self.weights) + self.bias\n",
    "            \n",
    "            # P(y=1|x) × exposure\n",
    "            sigmoid_values = self.sigmoid(z)\n",
    "            y_pred = sigmoid_values * exposure\n",
    "            \n",
    "            # Pour tenir compte de l'exposition dans la dérivée\n",
    "            # La dérivée de (sigmoid(z) * exposure) : exposure * sigmoid(z) * (1 - sigmoid(z))\n",
    "            sigmoid_derivative = exposure * sigmoid_values * (1 - sigmoid_values)\n",
    "            \n",
    "            # Calculer les gradients pour w et b\n",
    "            dw = (1/n_samples) * np.dot(X.T, (y_pred - y * exposure))\n",
    "            db = (1/n_samples) * np.sum(y_pred - y * exposure)\n",
    "            \n",
    "            # Mettre à jour les paramètres\n",
    "            self.weights -= self.learning_rate * dw\n",
    "            self.bias -= self.learning_rate * db\n",
    "    \n",
    "    def predict_proba(self, X, exposure=None):\n",
    "        \"\"\"\n",
    "        Prédit les probabilités\n",
    "        \n",
    "        Args:\n",
    "            X: Features\n",
    "            exposure: Exposition (si None, retourne les probabilités brutes)\n",
    "        \"\"\"\n",
    "        z = np.dot(X, self.weights) + self.bias\n",
    "        proba = self.sigmoid(z)\n",
    "        \n",
    "        # Si l'exposition est fournie, multiplier les probabilités\n",
    "        if exposure is not None:\n",
    "            return proba * exposure\n",
    "        return proba\n",
    "    \n",
    "    def predict(self, X, exposure=None, threshold=0.5):\n",
    "        \"\"\"\n",
    "        Prédit les classes (0 ou 1)\n",
    "        \n",
    "        Args:\n",
    "            X: Features\n",
    "            exposure: Exposition (si None, utilise les probabilités brutes)\n",
    "            threshold: Seuil de décision\n",
    "        \"\"\"\n",
    "        probas = self.predict_proba(X, exposure)\n",
    "        return (probas > threshold).astype(int)\n"
   ]
  },
  {
   "cell_type": "code",
   "execution_count": 6,
   "metadata": {},
   "outputs": [],
   "source": [
    "def prepare_data(data, features, target):\n",
    "    \"\"\"\n",
    "    Prépare les données pour l'entraînement\n",
    "    \n",
    "    Args:\n",
    "        data: DataFrame contenant les données\n",
    "        features: Liste des features à utiliser\n",
    "        target: Nom de la colonne cible\n",
    "        \n",
    "    Returns:\n",
    "        Données divisées pour l'entraînement et le test\n",
    "    \"\"\"\n",
    "    # Vérifier si Exposure existe\n",
    "    if \"Exposure\" not in data.columns:\n",
    "        raise ValueError(\"La colonne 'Exposure' est requise\")\n",
    "    \n",
    "    # Extraire les features et cibles\n",
    "    X = data[features].values\n",
    "    y = data[target].values\n",
    "    \n",
    "    # Mémoriser les indices originaux avant la division\n",
    "    original_indices = data.index.tolist()\n",
    "    indices = np.arange(len(original_indices))\n",
    "    \n",
    "    # Division train/test avec les indices\n",
    "    train_indices, test_indices, y_train, y_test = train_test_split(\n",
    "        indices, y, test_size=0.2, random_state=42\n",
    "    )\n",
    "    \n",
    "    # Récupérer les features d'entraînement et de test\n",
    "    X_train = X[train_indices]\n",
    "    X_test = X[test_indices]\n",
    "    \n",
    "    # Standardisation des features (important pour la descente de gradient)\n",
    "    scaler = StandardScaler()\n",
    "    X_train = scaler.fit_transform(X_train)\n",
    "    X_test = scaler.transform(X_test)\n",
    "    \n",
    "    # Récupérer les expositions\n",
    "    exposure_train = data[\"Exposure\"].iloc[train_indices].values\n",
    "    exposure_test = data[\"Exposure\"].iloc[test_indices].values\n",
    "    \n",
    "    return X_train, X_test, y_train, y_test, exposure_train, exposure_test, scaler\n",
    "\n"
   ]
  },
  {
   "cell_type": "code",
   "execution_count": 7,
   "metadata": {},
   "outputs": [],
   "source": [
    "X_train, X_test, y_train, y_test, exposure_train, exposure_test, scaler = prepare_data(df, ['DriverAge', 'Gender', 'VehiculeUsage'], \n",
    "                                                                                       \"Sinistre\")"
   ]
  },
  {
   "cell_type": "code",
   "execution_count": 8,
   "metadata": {},
   "outputs": [
    {
     "data": {
      "text/plain": [
       "array([1., 1., 1., ..., 1., 1., 1.], shape=(32643,))"
      ]
     },
     "execution_count": 8,
     "metadata": {},
     "output_type": "execute_result"
    }
   ],
   "source": [
    "exposure_test"
   ]
  },
  {
   "cell_type": "code",
   "execution_count": 9,
   "metadata": {},
   "outputs": [
    {
     "data": {
      "text/plain": [
       "array([[-1.28079895, -0.60044408,  0.22491458],\n",
       "       [ 0.60657555, -0.60044408,  0.22491458],\n",
       "       [-1.61783011, -0.60044408,  0.22491458],\n",
       "       ...,\n",
       "       [ 2.08951266, -0.60044408,  0.22491458],\n",
       "       [-0.134893  , -0.60044408,  0.22491458],\n",
       "       [-1.14598648,  1.66543403,  0.22491458]], shape=(32643, 3))"
      ]
     },
     "execution_count": 9,
     "metadata": {},
     "output_type": "execute_result"
    }
   ],
   "source": [
    "X_test"
   ]
  },
  {
   "cell_type": "code",
   "execution_count": 10,
   "metadata": {},
   "outputs": [],
   "source": [
    "def train_model(X_train, y_train, exposure_train, learning_rate=0.01, n_iterations=1000):\n",
    "    \"\"\"\n",
    "    Entraîne un modèle de régression logistique manuel\n",
    "    avec multiplication directe de la sigmoid par l'exposition\n",
    "    \n",
    "    Args:\n",
    "        X_train: Features d'entraînement\n",
    "        y_train: Cible d'entraînement\n",
    "        exposure_train: Exposition (obligatoire)\n",
    "        learning_rate: Taux d'apprentissage pour la descente de gradient\n",
    "        n_iterations: Nombre d'itérations pour la descente de gradient\n",
    "    \n",
    "    Returns:\n",
    "        Le modèle entraîné\n",
    "    \"\"\"\n",
    "    # Créer et entraîner le modèle\n",
    "    model = ManualLogisticRegression(learning_rate=learning_rate, n_iterations=n_iterations)\n",
    "    model.fit(X_train, y_train, exposure_train)\n",
    "    \n",
    "    # Afficher les coefficients du modèle\n",
    "    print(\"Coefficients du modèle:\")\n",
    "    print(f\"  Biais: {model.bias:.6f}\")\n",
    "    for i, weight in enumerate(model.weights):\n",
    "        print(f\"  Feature {i+1}: {weight:.6f}\")\n",
    "    \n",
    "    return model"
   ]
  },
  {
   "cell_type": "code",
   "execution_count": 18,
   "metadata": {},
   "outputs": [
    {
     "name": "stdout",
     "output_type": "stream",
     "text": [
      "Coefficients du modèle:\n",
      "  Biais: -2.034463\n",
      "  Feature 1: -0.220776\n",
      "  Feature 2: 0.009188\n",
      "  Feature 3: -0.006439\n"
     ]
    }
   ],
   "source": [
    "model = train_model(X_train, y_train, exposure_train, learning_rate=0.01, n_iterations=10000)"
   ]
  },
  {
   "cell_type": "code",
   "execution_count": 12,
   "metadata": {},
   "outputs": [],
   "source": [
    "def predict_with_exposure(model, X, exposure):\n",
    "    \"\"\"\n",
    "    Prédit en prenant en compte l'exposition\n",
    "    \n",
    "    Args:\n",
    "        model: Le modèle entraîné\n",
    "        X: Features pour la prédiction\n",
    "        exposure: Valeurs d'exposition\n",
    "    \n",
    "    Returns:\n",
    "        Prédictions ajustées selon l'exposition (probabilités)\n",
    "    \"\"\"\n",
    "    # Obtenir directement les probabilités ajustées par l'exposition\n",
    "    y_pred_proba = model.predict_proba(X, exposure)\n",
    "    \n",
    "    return y_pred_proba"
   ]
  },
  {
   "cell_type": "code",
   "execution_count": 13,
   "metadata": {},
   "outputs": [
    {
     "data": {
      "text/plain": [
       "array([0.20598805, 0.17227476, 0.21249701, ..., 0.14897138, 0.18496866,\n",
       "       0.20810552], shape=(32643,))"
      ]
     },
     "execution_count": 13,
     "metadata": {},
     "output_type": "execute_result"
    }
   ],
   "source": [
    "y_pred_proba = predict_with_exposure(model, X_test, exposure_test)\n",
    "y_pred_proba"
   ]
  },
  {
   "cell_type": "code",
   "execution_count": 14,
   "metadata": {},
   "outputs": [],
   "source": [
    "\n",
    "def evaluate_model(model, X_test, y_test, exposure_test):\n",
    "    \"\"\"\n",
    "    Évalue le modèle en tenant compte de l'exposition\n",
    "    \"\"\"\n",
    "    # Prédictions ajustées selon l'exposition (probabilités)\n",
    "    y_pred_exposed = predict_with_exposure(model, X_test, exposure_test)\n",
    "    \n",
    "    # Convertir en valeurs binaires pour l'évaluation (seuil à 0.5)\n",
    "    y_pred_binary = (y_pred_exposed >= 0.5).astype(int)\n",
    "    \n",
    "    # Calculer les métriques\n",
    "    accuracy = accuracy_score(y_test, y_pred_binary)\n",
    "    precision = precision_score(y_test, y_pred_binary, zero_division=0)\n",
    "    recall = recall_score(y_test, y_pred_binary, zero_division=0)\n",
    "    f1 = f1_score(y_test, y_pred_binary, zero_division=0)\n",
    "    \n",
    "    print(\"Performance du modèle:\")\n",
    "    print(f\"  Accuracy: {accuracy:.4f}\")\n",
    "    print(f\"  Precision: {precision:.4f}\")\n",
    "    print(f\"  Recall: {recall:.4f}\")\n",
    "    print(f\"  F1 Score: {f1:.4f}\")\n",
    "    \n",
    "    # Afficher quelques exemples de prédictions\n",
    "    print(\"\\nExemples de prédictions (10 premières observations):\")\n",
    "    for i in range(min(10, len(y_test))):\n",
    "        print(f\"  Obs {i+1}: Réel={y_test[i]}, Proba={y_pred_exposed[i]:.4f}, Prédit={y_pred_binary[i]}, Exposition={exposure_test[i]:.2f}\")\n",
    "    \n",
    "    return {\n",
    "        'accuracy': accuracy,\n",
    "        'precision': precision,\n",
    "        'recall': recall,\n",
    "        'f1': f1\n",
    "    }"
   ]
  },
  {
   "cell_type": "code",
   "execution_count": 15,
   "metadata": {},
   "outputs": [
    {
     "name": "stdout",
     "output_type": "stream",
     "text": [
      "Performance du modèle:\n",
      "  Accuracy: 0.8879\n",
      "  Precision: 0.0000\n",
      "  Recall: 0.0000\n",
      "  F1 Score: 0.0000\n",
      "\n",
      "Exemples de prédictions (10 premières observations):\n",
      "  Obs 1: Réel=0, Proba=0.2060, Prédit=0, Exposition=1.00\n",
      "  Obs 2: Réel=1, Proba=0.1723, Prédit=0, Exposition=1.00\n",
      "  Obs 3: Réel=1, Proba=0.2125, Prédit=0, Exposition=1.00\n",
      "  Obs 4: Réel=0, Proba=0.0814, Prédit=0, Exposition=0.40\n",
      "  Obs 5: Réel=1, Proba=0.1979, Prédit=0, Exposition=1.00\n",
      "  Obs 6: Réel=0, Proba=0.2112, Prédit=0, Exposition=1.00\n",
      "  Obs 7: Réel=0, Proba=0.1667, Prédit=0, Exposition=1.00\n",
      "  Obs 8: Réel=0, Proba=0.2047, Prédit=0, Exposition=1.00\n",
      "  Obs 9: Réel=1, Proba=0.2133, Prédit=0, Exposition=1.00\n",
      "  Obs 10: Réel=0, Proba=0.2099, Prédit=0, Exposition=1.00\n"
     ]
    },
    {
     "data": {
      "text/plain": [
       "{'accuracy': 0.8878779523940814, 'precision': 0.0, 'recall': 0.0, 'f1': 0.0}"
      ]
     },
     "execution_count": 15,
     "metadata": {},
     "output_type": "execute_result"
    }
   ],
   "source": [
    "evaluate_model(model, X_test, y_test, exposure_test)"
   ]
  },
  {
   "cell_type": "code",
   "execution_count": 16,
   "metadata": {},
   "outputs": [
    {
     "name": "stdout",
     "output_type": "stream",
     "text": [
      "Coefficients du modèle:\n",
      "  Biais: -1.491195\n",
      "  Feature 1: -0.116728\n",
      "  Feature 2: 0.012637\n",
      "  Feature 3: -0.000015\n",
      "Performance du modèle:\n",
      "  Accuracy: 0.8879\n",
      "  Precision: 0.0000\n",
      "  Recall: 0.0000\n",
      "  F1 Score: 0.0000\n",
      "\n",
      "Exemples de prédictions (10 premières observations):\n",
      "  Obs 1: Réel=0, Proba=0.2060, Prédit=0, Exposition=1.00\n",
      "  Obs 2: Réel=1, Proba=0.1723, Prédit=0, Exposition=1.00\n",
      "  Obs 3: Réel=1, Proba=0.2125, Prédit=0, Exposition=1.00\n",
      "  Obs 4: Réel=0, Proba=0.0814, Prédit=0, Exposition=0.40\n",
      "  Obs 5: Réel=1, Proba=0.1979, Prédit=0, Exposition=1.00\n",
      "  Obs 6: Réel=0, Proba=0.2112, Prédit=0, Exposition=1.00\n",
      "  Obs 7: Réel=0, Proba=0.1667, Prédit=0, Exposition=1.00\n",
      "  Obs 8: Réel=0, Proba=0.2047, Prédit=0, Exposition=1.00\n",
      "  Obs 9: Réel=1, Proba=0.2133, Prédit=0, Exposition=1.00\n",
      "  Obs 10: Réel=0, Proba=0.2099, Prédit=0, Exposition=1.00\n"
     ]
    }
   ],
   "source": [
    "features = ['DriverAge', 'Gender', 'VehiculeUsage']\n",
    "target=\"Sinistre\"\n",
    "X_train, X_test, y_train, y_test, exposure_train, exposure_test, scaler = prepare_data(df, features, target)\n",
    "# # Entraîner le modèle avec l'exposition comme poids\n",
    "model = train_model(X_train, y_train, exposure_train)\n",
    "# \n",
    "# # Évaluer le modèle\n",
    "metrics = evaluate_model(model, X_test, y_test, exposure_test)\n"
   ]
  },
  {
   "cell_type": "code",
   "execution_count": null,
   "metadata": {},
   "outputs": [],
   "source": []
  }
 ],
 "metadata": {
  "kernelspec": {
   "display_name": "fed_learning",
   "language": "python",
   "name": "python3"
  },
  "language_info": {
   "codemirror_mode": {
    "name": "ipython",
    "version": 3
   },
   "file_extension": ".py",
   "mimetype": "text/x-python",
   "name": "python",
   "nbconvert_exporter": "python",
   "pygments_lexer": "ipython3",
   "version": "3.12.8"
  }
 },
 "nbformat": 4,
 "nbformat_minor": 2
}
