{
 "cells": [
  {
   "cell_type": "code",
   "execution_count": 5,
   "id": "433e8803",
   "metadata": {},
   "outputs": [],
   "source": [
    "import pandas as pd\n",
    "import os\n",
    "import numpy as np\n",
    "from sklearn.preprocessing import StandardScaler\n",
    "from imblearn.over_sampling import SMOTENC\n",
    "from sklearn.model_selection import train_test_split"
   ]
  },
  {
   "cell_type": "code",
   "execution_count": 22,
   "id": "73b5525c",
   "metadata": {},
   "outputs": [],
   "source": [
    "#df_freMTPL = pd.read_csv(\"/home/onyxia/work/Federated_Learning_Milliman/data/french_data.csv\")\n",
    "#df_beMTPL = pd.read_csv(\"/home/onyxia/work/Federated_Learning_Milliman/data/belgium_data.csv\")\n",
    "#df_euMTPL = pd.read_csv(\"/home/onyxia/work/Federated_Learning_Milliman/data/european_data.csv\")\n",
    "\n",
    "\n",
    "df_freMTPL = pd.read_csv(\"./data/french_data.csv\")\n",
    "df_beMTPL = pd.read_csv(\"./data/belgium_data.csv\")\n",
    "df_euMTPL = pd.read_csv(\"./data/european_data.csv\")"
   ]
  },
  {
   "cell_type": "code",
   "execution_count": 23,
   "id": "1305764c",
   "metadata": {},
   "outputs": [
    {
     "data": {
      "text/html": [
       "<div>\n",
       "<style scoped>\n",
       "    .dataframe tbody tr th:only-of-type {\n",
       "        vertical-align: middle;\n",
       "    }\n",
       "\n",
       "    .dataframe tbody tr th {\n",
       "        vertical-align: top;\n",
       "    }\n",
       "\n",
       "    .dataframe thead th {\n",
       "        text-align: right;\n",
       "    }\n",
       "</style>\n",
       "<table border=\"1\" class=\"dataframe\">\n",
       "  <thead>\n",
       "    <tr style=\"text-align: right;\">\n",
       "      <th></th>\n",
       "      <th>Exposure</th>\n",
       "      <th>Power</th>\n",
       "      <th>DriverAge</th>\n",
       "      <th>Fuel_type</th>\n",
       "      <th>Density</th>\n",
       "      <th>Sex</th>\n",
       "      <th>Sinistre</th>\n",
       "    </tr>\n",
       "  </thead>\n",
       "  <tbody>\n",
       "    <tr>\n",
       "      <th>0</th>\n",
       "      <td>1.000000</td>\n",
       "      <td>0.287554</td>\n",
       "      <td>0.415584</td>\n",
       "      <td>0</td>\n",
       "      <td>0.600216</td>\n",
       "      <td>1</td>\n",
       "      <td>1</td>\n",
       "    </tr>\n",
       "    <tr>\n",
       "      <th>1</th>\n",
       "      <td>1.000000</td>\n",
       "      <td>0.240343</td>\n",
       "      <td>0.597403</td>\n",
       "      <td>0</td>\n",
       "      <td>0.600216</td>\n",
       "      <td>0</td>\n",
       "      <td>0</td>\n",
       "    </tr>\n",
       "    <tr>\n",
       "      <th>2</th>\n",
       "      <td>1.000000</td>\n",
       "      <td>0.257511</td>\n",
       "      <td>0.545455</td>\n",
       "      <td>1</td>\n",
       "      <td>0.600216</td>\n",
       "      <td>1</td>\n",
       "      <td>0</td>\n",
       "    </tr>\n",
       "    <tr>\n",
       "      <th>3</th>\n",
       "      <td>1.000000</td>\n",
       "      <td>0.201717</td>\n",
       "      <td>0.766234</td>\n",
       "      <td>0</td>\n",
       "      <td>0.600216</td>\n",
       "      <td>1</td>\n",
       "      <td>0</td>\n",
       "    </tr>\n",
       "    <tr>\n",
       "      <th>4</th>\n",
       "      <td>0.046575</td>\n",
       "      <td>0.257511</td>\n",
       "      <td>0.129870</td>\n",
       "      <td>0</td>\n",
       "      <td>0.600216</td>\n",
       "      <td>0</td>\n",
       "      <td>1</td>\n",
       "    </tr>\n",
       "    <tr>\n",
       "      <th>...</th>\n",
       "      <td>...</td>\n",
       "      <td>...</td>\n",
       "      <td>...</td>\n",
       "      <td>...</td>\n",
       "      <td>...</td>\n",
       "      <td>...</td>\n",
       "      <td>...</td>\n",
       "    </tr>\n",
       "    <tr>\n",
       "      <th>163207</th>\n",
       "      <td>1.000000</td>\n",
       "      <td>0.128755</td>\n",
       "      <td>0.246753</td>\n",
       "      <td>1</td>\n",
       "      <td>0.009890</td>\n",
       "      <td>1</td>\n",
       "      <td>0</td>\n",
       "    </tr>\n",
       "    <tr>\n",
       "      <th>163208</th>\n",
       "      <td>1.000000</td>\n",
       "      <td>0.193133</td>\n",
       "      <td>0.337662</td>\n",
       "      <td>1</td>\n",
       "      <td>0.009890</td>\n",
       "      <td>1</td>\n",
       "      <td>0</td>\n",
       "    </tr>\n",
       "    <tr>\n",
       "      <th>163209</th>\n",
       "      <td>1.000000</td>\n",
       "      <td>0.128755</td>\n",
       "      <td>0.415584</td>\n",
       "      <td>1</td>\n",
       "      <td>0.009890</td>\n",
       "      <td>1</td>\n",
       "      <td>0</td>\n",
       "    </tr>\n",
       "    <tr>\n",
       "      <th>163210</th>\n",
       "      <td>1.000000</td>\n",
       "      <td>0.240343</td>\n",
       "      <td>0.324675</td>\n",
       "      <td>0</td>\n",
       "      <td>0.009890</td>\n",
       "      <td>1</td>\n",
       "      <td>0</td>\n",
       "    </tr>\n",
       "    <tr>\n",
       "      <th>163211</th>\n",
       "      <td>1.000000</td>\n",
       "      <td>0.158798</td>\n",
       "      <td>0.077922</td>\n",
       "      <td>0</td>\n",
       "      <td>0.009890</td>\n",
       "      <td>1</td>\n",
       "      <td>1</td>\n",
       "    </tr>\n",
       "  </tbody>\n",
       "</table>\n",
       "<p>163212 rows × 7 columns</p>\n",
       "</div>"
      ],
      "text/plain": [
       "        Exposure     Power  DriverAge  Fuel_type   Density  Sex  Sinistre\n",
       "0       1.000000  0.287554   0.415584          0  0.600216    1         1\n",
       "1       1.000000  0.240343   0.597403          0  0.600216    0         0\n",
       "2       1.000000  0.257511   0.545455          1  0.600216    1         0\n",
       "3       1.000000  0.201717   0.766234          0  0.600216    1         0\n",
       "4       0.046575  0.257511   0.129870          0  0.600216    0         1\n",
       "...          ...       ...        ...        ...       ...  ...       ...\n",
       "163207  1.000000  0.128755   0.246753          1  0.009890    1         0\n",
       "163208  1.000000  0.193133   0.337662          1  0.009890    1         0\n",
       "163209  1.000000  0.128755   0.415584          1  0.009890    1         0\n",
       "163210  1.000000  0.240343   0.324675          0  0.009890    1         0\n",
       "163211  1.000000  0.158798   0.077922          0  0.009890    1         1\n",
       "\n",
       "[163212 rows x 7 columns]"
      ]
     },
     "execution_count": 23,
     "metadata": {},
     "output_type": "execute_result"
    }
   ],
   "source": [
    "df_beMTPL"
   ]
  },
  {
   "cell_type": "code",
   "execution_count": null,
   "id": "5fbe24af",
   "metadata": {},
   "outputs": [
    {
     "name": "stdout",
     "output_type": "stream",
     "text": [
      "Sinistre\n",
      "0    0.699301\n",
      "1    0.300699\n",
      "Name: proportion, dtype: float64\n"
     ]
    }
   ],
   "source": [
    "# Colonnes catégorielles : Fuel_type (col 3), Sex (col 5)\n",
    "cat_features = [3, 5]\n",
    "\n",
    "# Séparer les features et la target\n",
    "X = df_freMTPL.drop(columns='Sinistre')\n",
    "y = df_freMTPL['Sinistre']\n",
    "\n",
    "# Appliquer SMOTENC avec sampling_strategy pour atteindre 30 % de sinistres\n",
    "smote_nc = SMOTENC(categorical_features=cat_features, sampling_strategy=0.43, random_state=42)\n",
    "X_res, y_res = smote_nc.fit_resample(X, y)\n",
    "\n",
    "# Reformer la base\n",
    "df_freMTPL = X_res.copy()\n",
    "df_freMTPL['Sinistre'] = y_res\n",
    "\n",
    "# Vérification\n",
    "proportions = df_freMTPL['Sinistre'].value_counts(normalize=True)\n",
    "print(proportions)\n"
   ]
  },
  {
   "cell_type": "code",
   "execution_count": 9,
   "id": "dd479578",
   "metadata": {},
   "outputs": [],
   "source": [
    "#import os; os.makedirs(\"/home/onyxia/work/Federated_Learning_Milliman/data_augmentation\", exist_ok=True)\n",
    "#df_freMTPL.to_csv('/home/onyxia/work/Federated_Learning_Milliman/data_augmentation/french_data.csv', index=False)\n",
    "df_freMTPL.to_csv('./data_augmentation/french_data.csv', index=False)"
   ]
  },
  {
   "cell_type": "code",
   "execution_count": 24,
   "id": "19f35207",
   "metadata": {},
   "outputs": [
    {
     "name": "stdout",
     "output_type": "stream",
     "text": [
      "Sinistre\n",
      "0    0.699302\n",
      "1    0.300698\n",
      "Name: proportion, dtype: float64\n"
     ]
    }
   ],
   "source": [
    "# Colonnes catégorielles : Fuel_type (col 3), Sex (col 5)\n",
    "cat_features = [3, 5]\n",
    "\n",
    "# Séparer les features et la target\n",
    "X = df_beMTPL.drop(columns='Sinistre')\n",
    "y = df_beMTPL['Sinistre']\n",
    "\n",
    "# Appliquer SMOTENC avec sampling_strategy pour atteindre 30 % de sinistres\n",
    "smote_nc = SMOTENC(categorical_features=cat_features, sampling_strategy=0.43, random_state=42)\n",
    "X_res, y_res = smote_nc.fit_resample(X, y)\n",
    "\n",
    "# Reformer la base\n",
    "df_beMTPL = X_res.copy()\n",
    "df_beMTPL['Sinistre'] = y_res\n",
    "\n",
    "# Vérification\n",
    "proportions = df_beMTPL['Sinistre'].value_counts(normalize=True)\n",
    "print(proportions)\n"
   ]
  },
  {
   "cell_type": "code",
   "execution_count": 25,
   "id": "8a1f24fe",
   "metadata": {},
   "outputs": [],
   "source": [
    "#import os; os.makedirs(\"/home/onyxia/work/Federated_Learning_Milliman/data_augmentation\", exist_ok=True)\n",
    "#df_beMTPL.to_csv('/home/onyxia/work/Federated_Learning_Milliman/data_augmentation/belgium_data.csv', index=False)\n",
    "df_beMTPL.to_csv('./data_augmentation/belgium_data.csv', index=False)"
   ]
  },
  {
   "cell_type": "code",
   "execution_count": 13,
   "id": "be9ccda7",
   "metadata": {},
   "outputs": [
    {
     "name": "stdout",
     "output_type": "stream",
     "text": [
      "Sinistre\n",
      "0    0.699301\n",
      "1    0.300699\n",
      "Name: proportion, dtype: float64\n"
     ]
    }
   ],
   "source": [
    "# Colonnes catégorielles : Fuel_type (col 3), Sex (col 5)\n",
    "cat_features = [3, 5]\n",
    "df_euMTPL = df_euMTPL.dropna()\n",
    "\n",
    "# Séparer les features et la target\n",
    "X = df_euMTPL.drop(columns='Sinistre')\n",
    "y = df_euMTPL['Sinistre']\n",
    "\n",
    "# Appliquer SMOTENC avec sampling_strategy pour atteindre 30 % de sinistres\n",
    "smote_nc = SMOTENC(categorical_features=cat_features, sampling_strategy=0.43, random_state=42)\n",
    "X_res, y_res = smote_nc.fit_resample(X, y)\n",
    "\n",
    "# Reformer la base\n",
    "df_euMTPL = X_res.copy()\n",
    "df_euMTPL['Sinistre'] = y_res\n",
    "\n",
    "# Vérification\n",
    "proportions = df_euMTPL['Sinistre'].value_counts(normalize=True)\n",
    "print(proportions)\n"
   ]
  },
  {
   "cell_type": "code",
   "execution_count": 14,
   "id": "845aaeb8",
   "metadata": {},
   "outputs": [],
   "source": [
    "#import os; os.makedirs(\"/home/onyxia/work/Federated_Learning_Milliman/data_augmentation\", exist_ok=True)\n",
    "#df_euMTPL.to_csv('/home/onyxia/work/Federated_Learning_Milliman/data_augmentation/european_data.csv', index=False)\n",
    "df_euMTPL.to_csv('./data_augmentation/european_data.csv', index=False)"
   ]
  },
  {
   "cell_type": "markdown",
   "id": "8ec7fc48",
   "metadata": {},
   "source": [
    "### REG LOGISTIC"
   ]
  },
  {
   "cell_type": "code",
   "execution_count": 26,
   "id": "98c3f449",
   "metadata": {},
   "outputs": [],
   "source": [
    "import statsmodels.api as sm\n",
    "\n",
    "def logistic_regression_summary(df, target='Sinistre', exclude=['Exposure']):\n",
    "    X = df.drop(columns=exclude + [target])\n",
    "    y = df[target]\n",
    "    X = sm.add_constant(X)\n",
    "    \n",
    "    model = sm.Logit(y, X).fit()\n",
    "    print(model.summary())\n",
    "    return model"
   ]
  },
  {
   "cell_type": "code",
   "execution_count": 27,
   "id": "5c8b650a",
   "metadata": {},
   "outputs": [
    {
     "name": "stdout",
     "output_type": "stream",
     "text": [
      "Optimization terminated successfully.\n",
      "         Current function value: 0.604790\n",
      "         Iterations 5\n",
      "                           Logit Regression Results                           \n",
      "==============================================================================\n",
      "Dep. Variable:               Sinistre   No. Observations:               207258\n",
      "Model:                          Logit   Df Residuals:                   207252\n",
      "Method:                           MLE   Df Model:                            5\n",
      "Date:                Fri, 09 May 2025   Pseudo R-squ.:                 0.01090\n",
      "Time:                        17:08:19   Log-Likelihood:            -1.2535e+05\n",
      "converged:                       True   LL-Null:                   -1.2673e+05\n",
      "Covariance Type:            nonrobust   LLR p-value:                     0.000\n",
      "==============================================================================\n",
      "                 coef    std err          z      P>|z|      [0.025      0.975]\n",
      "------------------------------------------------------------------------------\n",
      "const         -0.6424      0.017    -37.620      0.000      -0.676      -0.609\n",
      "Power          0.5365      0.060      8.934      0.000       0.419       0.654\n",
      "DriverAge     -1.0613      0.026    -40.649      0.000      -1.113      -1.010\n",
      "Fuel_type      0.1678      0.010     16.061      0.000       0.147       0.188\n",
      "Density        0.7202      0.032     22.724      0.000       0.658       0.782\n",
      "Sex           -0.0382      0.011     -3.416      0.001      -0.060      -0.016\n",
      "==============================================================================\n"
     ]
    },
    {
     "data": {
      "text/plain": [
       "<statsmodels.discrete.discrete_model.BinaryResultsWrapper at 0x1792bff50>"
      ]
     },
     "execution_count": 27,
     "metadata": {},
     "output_type": "execute_result"
    }
   ],
   "source": [
    "logistic_regression_summary(df_beMTPL)"
   ]
  },
  {
   "cell_type": "code",
   "execution_count": 17,
   "id": "167cf848",
   "metadata": {},
   "outputs": [
    {
     "name": "stdout",
     "output_type": "stream",
     "text": [
      "Optimization terminated successfully.\n",
      "         Current function value: 0.598570\n",
      "         Iterations 5\n",
      "                           Logit Regression Results                           \n",
      "==============================================================================\n",
      "Dep. Variable:               Sinistre   No. Observations:              1487420\n",
      "Model:                          Logit   Df Residuals:                  1487414\n",
      "Method:                           MLE   Df Model:                            5\n",
      "Date:                Fri, 09 May 2025   Pseudo R-squ.:                 0.02107\n",
      "Time:                        16:56:26   Log-Likelihood:            -8.9033e+05\n",
      "converged:                       True   LL-Null:                   -9.0949e+05\n",
      "Covariance Type:            nonrobust   LLR p-value:                     0.000\n",
      "==============================================================================\n",
      "                 coef    std err          z      P>|z|      [0.025      0.975]\n",
      "------------------------------------------------------------------------------\n",
      "const         -1.1776      0.005   -225.711      0.000      -1.188      -1.167\n",
      "Power         -0.8290      0.012    -66.523      0.000      -0.853      -0.805\n",
      "DriverAge      0.1268      0.010     12.263      0.000       0.107       0.147\n",
      "Fuel_type     -0.0327      0.004     -8.930      0.000      -0.040      -0.026\n",
      "Density        0.1727      0.011     15.493      0.000       0.151       0.195\n",
      "Sex            0.6672      0.004    179.190      0.000       0.660       0.675\n",
      "==============================================================================\n"
     ]
    },
    {
     "data": {
      "text/plain": [
       "<statsmodels.discrete.discrete_model.BinaryResultsWrapper at 0x183576060>"
      ]
     },
     "execution_count": 17,
     "metadata": {},
     "output_type": "execute_result"
    }
   ],
   "source": [
    "logistic_regression_summary(df_freMTPL)\n"
   ]
  },
  {
   "cell_type": "code",
   "execution_count": 18,
   "id": "ccaa5251",
   "metadata": {},
   "outputs": [
    {
     "name": "stdout",
     "output_type": "stream",
     "text": [
      "Optimization terminated successfully.\n",
      "         Current function value: 0.609409\n",
      "         Iterations 5\n",
      "                           Logit Regression Results                           \n",
      "==============================================================================\n",
      "Dep. Variable:               Sinistre   No. Observations:              3130005\n",
      "Model:                          Logit   Df Residuals:                  3129999\n",
      "Method:                           MLE   Df Model:                            5\n",
      "Date:                Fri, 09 May 2025   Pseudo R-squ.:                0.003347\n",
      "Time:                        16:56:36   Log-Likelihood:            -1.9075e+06\n",
      "converged:                       True   LL-Null:                   -1.9139e+06\n",
      "Covariance Type:            nonrobust   LLR p-value:                     0.000\n",
      "==============================================================================\n",
      "                 coef    std err          z      P>|z|      [0.025      0.975]\n",
      "------------------------------------------------------------------------------\n",
      "const         -0.8674      0.006   -149.328      0.000      -0.879      -0.856\n",
      "Power          1.9755      0.325      6.079      0.000       1.339       2.612\n",
      "DriverAge     -0.3254      0.008    -40.559      0.000      -0.341      -0.310\n",
      "Fuel_type      0.2330      0.003     81.934      0.000       0.227       0.239\n",
      "Density        0.1479      0.005     30.864      0.000       0.139       0.157\n",
      "Sex           -0.0486      0.003    -18.395      0.000      -0.054      -0.043\n",
      "==============================================================================\n"
     ]
    },
    {
     "data": {
      "text/plain": [
       "<statsmodels.discrete.discrete_model.BinaryResultsWrapper at 0x182df1850>"
      ]
     },
     "execution_count": 18,
     "metadata": {},
     "output_type": "execute_result"
    }
   ],
   "source": [
    "logistic_regression_summary(df_euMTPL)\n"
   ]
  },
  {
   "cell_type": "code",
   "execution_count": null,
   "id": "8a8114d2",
   "metadata": {},
   "outputs": [],
   "source": []
  }
 ],
 "metadata": {
  "kernelspec": {
   "display_name": "fed_learning",
   "language": "python",
   "name": "python3"
  },
  "language_info": {
   "codemirror_mode": {
    "name": "ipython",
    "version": 3
   },
   "file_extension": ".py",
   "mimetype": "text/x-python",
   "name": "python",
   "nbconvert_exporter": "python",
   "pygments_lexer": "ipython3",
   "version": "3.12.8"
  }
 },
 "nbformat": 4,
 "nbformat_minor": 5
}
