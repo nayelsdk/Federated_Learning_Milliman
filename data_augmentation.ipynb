{
 "cells": [
  {
   "cell_type": "code",
   "execution_count": 2,
   "id": "433e8803",
   "metadata": {},
   "outputs": [],
   "source": [
    "import pandas as pd\n",
    "import os\n",
    "import numpy as np\n",
    "from sklearn.preprocessing import StandardScaler\n",
    "from imblearn.over_sampling import SMOTENC\n",
    "from sklearn.model_selection import train_test_split\n"
   ]
  },
  {
   "cell_type": "code",
   "execution_count": 3,
   "id": "73b5525c",
   "metadata": {},
   "outputs": [],
   "source": [
    "\n",
    "df_freMTPL = pd.read_csv(\"/home/onyxia/work/Federated_Learning_Milliman/data/french_data.csv\")\n",
    "df_beMTPL = pd.read_csv(\"/home/onyxia/work/Federated_Learning_Milliman/data/belgium_data.csv\")\n",
    "df_euMTPL = pd.read_csv(\"/home/onyxia/work/Federated_Learning_Milliman/data/european_data.csv\")"
   ]
  },
  {
   "cell_type": "code",
   "execution_count": 4,
   "id": "5fbe24af",
   "metadata": {},
   "outputs": [
    {
     "name": "stdout",
     "output_type": "stream",
     "text": [
      "Sinistre\n",
      "0    0.699301\n",
      "1    0.300699\n",
      "Name: proportion, dtype: float64\n"
     ]
    }
   ],
   "source": [
    "\n",
    "# Colonnes catégorielles : Fuel_type (col 3), Sex (col 5)\n",
    "cat_features = [3, 5]\n",
    "\n",
    "# Séparer les features et la target\n",
    "X = df_freMTPL.drop(columns='Sinistre')\n",
    "y = df_freMTPL['Sinistre']\n",
    "\n",
    "# Appliquer SMOTENC avec sampling_strategy pour atteindre 30 % de sinistres\n",
    "smote_nc = SMOTENC(categorical_features=cat_features, sampling_strategy=0.43, random_state=42)\n",
    "X_res, y_res = smote_nc.fit_resample(X, y)\n",
    "\n",
    "# Reformer la base\n",
    "df_freMTPL = X_res.copy()\n",
    "df_freMTPL['Sinistre'] = y_res\n",
    "\n",
    "# Vérification\n",
    "proportions = df_freMTPL['Sinistre'].value_counts(normalize=True)\n",
    "print(proportions)\n"
   ]
  },
  {
   "cell_type": "code",
   "execution_count": 5,
   "id": "dd479578",
   "metadata": {},
   "outputs": [],
   "source": [
    "import os; os.makedirs(\"/home/onyxia/work/Federated_Learning_Milliman/data_augmentation\", exist_ok=True)\n",
    "df_freMTPL.to_csv('/home/onyxia/work/Federated_Learning_Milliman/data_augmentation/french_data.csv', index=False)"
   ]
  },
  {
   "cell_type": "code",
   "execution_count": 6,
   "id": "19f35207",
   "metadata": {},
   "outputs": [
    {
     "name": "stdout",
     "output_type": "stream",
     "text": [
      "Sinistre\n",
      "0    0.699302\n",
      "1    0.300698\n",
      "Name: proportion, dtype: float64\n"
     ]
    }
   ],
   "source": [
    "# Colonnes catégorielles : Fuel_type (col 3), Sex (col 5)\n",
    "cat_features = [3, 5]\n",
    "\n",
    "# Séparer les features et la target\n",
    "X = df_beMTPL.drop(columns='Sinistre')\n",
    "y = df_beMTPL['Sinistre']\n",
    "\n",
    "# Appliquer SMOTENC avec sampling_strategy pour atteindre 30 % de sinistres\n",
    "smote_nc = SMOTENC(categorical_features=cat_features, sampling_strategy=0.43, random_state=42)\n",
    "X_res, y_res = smote_nc.fit_resample(X, y)\n",
    "\n",
    "# Reformer la base\n",
    "df_beMTPL = X_res.copy()\n",
    "df_beMTPL['Sinistre'] = y_res\n",
    "\n",
    "# Vérification\n",
    "proportions = df_beMTPL['Sinistre'].value_counts(normalize=True)\n",
    "print(proportions)\n"
   ]
  },
  {
   "cell_type": "code",
   "execution_count": 7,
   "id": "8a1f24fe",
   "metadata": {},
   "outputs": [],
   "source": [
    "import os; os.makedirs(\"/home/onyxia/work/Federated_Learning_Milliman/data_augmentation\", exist_ok=True)\n",
    "df_beMTPL.to_csv('/home/onyxia/work/Federated_Learning_Milliman/data_augmentation/belgium_data.csv', index=False)"
   ]
  },
  {
   "cell_type": "code",
   "execution_count": 8,
   "id": "be9ccda7",
   "metadata": {},
   "outputs": [
    {
     "name": "stdout",
     "output_type": "stream",
     "text": [
      "Sinistre\n",
      "0    0.699301\n",
      "1    0.300699\n",
      "Name: proportion, dtype: float64\n"
     ]
    }
   ],
   "source": [
    "# Colonnes catégorielles : Fuel_type (col 3), Sex (col 5)\n",
    "cat_features = [3, 5]\n",
    "df_euMTPL = df_euMTPL.dropna()\n",
    "\n",
    "# Séparer les features et la target\n",
    "X = df_euMTPL.drop(columns='Sinistre')\n",
    "y = df_euMTPL['Sinistre']\n",
    "\n",
    "# Appliquer SMOTENC avec sampling_strategy pour atteindre 30 % de sinistres\n",
    "smote_nc = SMOTENC(categorical_features=cat_features, sampling_strategy=0.43, random_state=42)\n",
    "X_res, y_res = smote_nc.fit_resample(X, y)\n",
    "\n",
    "# Reformer la base\n",
    "df_euMTPL = X_res.copy()\n",
    "df_euMTPL['Sinistre'] = y_res\n",
    "\n",
    "# Vérification\n",
    "proportions = df_euMTPL['Sinistre'].value_counts(normalize=True)\n",
    "print(proportions)\n"
   ]
  },
  {
   "cell_type": "code",
   "execution_count": 9,
   "id": "845aaeb8",
   "metadata": {},
   "outputs": [],
   "source": [
    "import os; os.makedirs(\"/home/onyxia/work/Federated_Learning_Milliman/data_augmentation\", exist_ok=True)\n",
    "df_euMTPL.to_csv('/home/onyxia/work/Federated_Learning_Milliman/data_augmentation/european_data.csv', index=False)"
   ]
  },
  {
   "cell_type": "markdown",
   "id": "8ec7fc48",
   "metadata": {},
   "source": [
    "### REG LOGISTIC"
   ]
  },
  {
   "cell_type": "code",
   "execution_count": 11,
   "id": "98c3f449",
   "metadata": {},
   "outputs": [],
   "source": [
    "import statsmodels.api as sm\n",
    "\n",
    "def logistic_regression_summary(df, target='Sinistre', exclude=['Exposure']):\n",
    "    X = df.drop(columns=exclude + [target])\n",
    "    y = df[target]\n",
    "    X = sm.add_constant(X)\n",
    "    \n",
    "    model = sm.Logit(y, X).fit()\n",
    "    print(model.summary())\n",
    "    return model"
   ]
  },
  {
   "cell_type": "code",
   "execution_count": 12,
   "id": "5c8b650a",
   "metadata": {},
   "outputs": [
    {
     "name": "stdout",
     "output_type": "stream",
     "text": [
      "Optimization terminated successfully.\n",
      "         Current function value: 0.604790\n",
      "         Iterations 5\n",
      "                           Logit Regression Results                           \n",
      "==============================================================================\n",
      "Dep. Variable:               Sinistre   No. Observations:               207258\n",
      "Model:                          Logit   Df Residuals:                   207252\n",
      "Method:                           MLE   Df Model:                            5\n",
      "Date:                Thu, 08 May 2025   Pseudo R-squ.:                 0.01090\n",
      "Time:                        22:57:15   Log-Likelihood:            -1.2535e+05\n",
      "converged:                       True   LL-Null:                   -1.2673e+05\n",
      "Covariance Type:            nonrobust   LLR p-value:                     0.000\n",
      "==============================================================================\n",
      "                 coef    std err          z      P>|z|      [0.025      0.975]\n",
      "------------------------------------------------------------------------------\n",
      "const         -0.6425      0.017    -37.625      0.000      -0.676      -0.609\n",
      "Power          0.5369      0.060      8.941      0.000       0.419       0.655\n",
      "DriverAge     -1.0614      0.026    -40.649      0.000      -1.113      -1.010\n",
      "Fuel_type      0.1678      0.010     16.062      0.000       0.147       0.188\n",
      "Density        0.7202      0.032     22.724      0.000       0.658       0.782\n",
      "Sex           -0.0382      0.011     -3.418      0.001      -0.060      -0.016\n",
      "==============================================================================\n"
     ]
    },
    {
     "data": {
      "text/plain": [
       "<statsmodels.discrete.discrete_model.BinaryResultsWrapper at 0x7f8c88133050>"
      ]
     },
     "execution_count": 12,
     "metadata": {},
     "output_type": "execute_result"
    }
   ],
   "source": [
    "logistic_regression_summary(df_beMTPL)"
   ]
  },
  {
   "cell_type": "code",
   "execution_count": 13,
   "id": "167cf848",
   "metadata": {},
   "outputs": [
    {
     "name": "stdout",
     "output_type": "stream",
     "text": [
      "Optimization terminated successfully.\n",
      "         Current function value: 0.609694\n",
      "         Iterations 5\n",
      "                           Logit Regression Results                           \n",
      "==============================================================================\n",
      "Dep. Variable:               Sinistre   No. Observations:              1487420\n",
      "Model:                          Logit   Df Residuals:                  1487414\n",
      "Method:                           MLE   Df Model:                            5\n",
      "Date:                Thu, 08 May 2025   Pseudo R-squ.:                0.002880\n",
      "Time:                        22:58:08   Log-Likelihood:            -9.0687e+05\n",
      "converged:                       True   LL-Null:                   -9.0949e+05\n",
      "Covariance Type:            nonrobust   LLR p-value:                     0.000\n",
      "==============================================================================\n",
      "                 coef    std err          z      P>|z|      [0.025      0.975]\n",
      "------------------------------------------------------------------------------\n",
      "const         -0.8083      0.005   -152.488      0.000      -0.819      -0.798\n",
      "Power         -0.8252      0.012    -66.897      0.000      -0.849      -0.801\n",
      "DriverAge      0.1497      0.010     14.647      0.000       0.130       0.170\n",
      "Fuel_type     -0.0309      0.004     -8.515      0.000      -0.038      -0.024\n",
      "Density        0.1664      0.011     15.082      0.000       0.145       0.188\n",
      "Sex            0.0153      0.004      4.021      0.000       0.008       0.023\n",
      "==============================================================================\n"
     ]
    },
    {
     "data": {
      "text/plain": [
       "<statsmodels.discrete.discrete_model.BinaryResultsWrapper at 0x7f8adc9ebb00>"
      ]
     },
     "execution_count": 13,
     "metadata": {},
     "output_type": "execute_result"
    }
   ],
   "source": [
    "logistic_regression_summary(df_freMTPL)\n"
   ]
  },
  {
   "cell_type": "code",
   "execution_count": 14,
   "id": "ccaa5251",
   "metadata": {},
   "outputs": [
    {
     "name": "stdout",
     "output_type": "stream",
     "text": [
      "Optimization terminated successfully.\n",
      "         Current function value: 0.609409\n",
      "         Iterations 5\n",
      "                           Logit Regression Results                           \n",
      "==============================================================================\n",
      "Dep. Variable:               Sinistre   No. Observations:              3130005\n",
      "Model:                          Logit   Df Residuals:                  3129999\n",
      "Method:                           MLE   Df Model:                            5\n",
      "Date:                Thu, 08 May 2025   Pseudo R-squ.:                0.003347\n",
      "Time:                        22:58:28   Log-Likelihood:            -1.9075e+06\n",
      "converged:                       True   LL-Null:                   -1.9139e+06\n",
      "Covariance Type:            nonrobust   LLR p-value:                     0.000\n",
      "==============================================================================\n",
      "                 coef    std err          z      P>|z|      [0.025      0.975]\n",
      "------------------------------------------------------------------------------\n",
      "const         -0.8672      0.006   -149.357      0.000      -0.879      -0.856\n",
      "Power          1.9634      0.325      6.045      0.000       1.327       2.600\n",
      "DriverAge     -0.3254      0.008    -40.563      0.000      -0.341      -0.310\n",
      "Fuel_type      0.2330      0.003     81.959      0.000       0.227       0.239\n",
      "Density        0.1480      0.005     30.865      0.000       0.139       0.157\n",
      "Sex           -0.0486      0.003    -18.389      0.000      -0.054      -0.043\n",
      "==============================================================================\n"
     ]
    },
    {
     "data": {
      "text/plain": [
       "<statsmodels.discrete.discrete_model.BinaryResultsWrapper at 0x7f8b0eb4d670>"
      ]
     },
     "execution_count": 14,
     "metadata": {},
     "output_type": "execute_result"
    }
   ],
   "source": [
    "logistic_regression_summary(df_euMTPL)\n"
   ]
  }
 ],
 "metadata": {
  "kernelspec": {
   "display_name": "Python 3",
   "language": "python",
   "name": "python3"
  },
  "language_info": {
   "codemirror_mode": {
    "name": "ipython",
    "version": 3
   },
   "file_extension": ".py",
   "mimetype": "text/x-python",
   "name": "python",
   "nbconvert_exporter": "python",
   "pygments_lexer": "ipython3",
   "version": "3.12.9"
  }
 },
 "nbformat": 4,
 "nbformat_minor": 5
}
