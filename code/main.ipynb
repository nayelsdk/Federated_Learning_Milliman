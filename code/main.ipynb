{
 "cells": [
  {
   "cell_type": "code",
   "execution_count": 1,
   "metadata": {},
   "outputs": [],
   "source": [
    "from federated_models import FederatedLogisticRegression, federated_training\n",
    "from local_logistic import LocalLogisticModel\n",
    "from plots import plot_coeff_evolution, compare_logistic_models, cross_evaluate_heatmap\n",
    "import pandas as pd\n",
    "from sklearn.metrics import roc_auc_score, average_precision_score\n",
    "import matplotlib.pyplot as plt\n",
    "import warnings\n",
    "from sklearn.exceptions import ConvergenceWarning\n",
    "warnings.filterwarnings(\"ignore\", category=ConvergenceWarning)\n",
    "import os"
   ]
  },
  {
   "cell_type": "code",
   "execution_count": 2,
   "metadata": {},
   "outputs": [],
   "source": [
    "df_fr = pd.read_csv(\"../data/french_data.csv\").dropna()\n",
    "df_be = pd.read_csv(\"../data/belgium_data.csv\").dropna()\n",
    "df_eu = pd.read_csv(\"../data/european_data.csv\").dropna()\n",
    "df_split = [df_fr, df_be, df_eu]\n",
    "client_names = [\"France\", \"Belgique\", \"Europe\"]\n",
    "\n",
    "local_epochs = 10\n",
    "n_rounds = 10"
   ]
  },
  {
   "cell_type": "code",
   "execution_count": 3,
   "metadata": {},
   "outputs": [],
   "source": [
    "def main_federated_evaluation():\n",
    "    os.makedirs(\"results\", exist_ok=True)\n",
    "    os.makedirs(\"results/comparaison_models\", exist_ok=True)\n",
    "    os.makedirs(\"results/coeffs_evolution\", exist_ok=True)\n",
    "    \n",
    "    # Initialisation des clients\n",
    "    client_dicts = []\n",
    "    for i, df in enumerate(df_split):\n",
    "        client_dicts.append({\n",
    "            \"name\": client_names[i],\n",
    "            \"lr\": FederatedLogisticRegression(df, local_epochs=local_epochs),\n",
    "            \"coefs\": None\n",
    "        })\n",
    "\n",
    "    # Apprentissage fédéré\n",
    "    clients_history, global_history = federated_training(client_dicts, n_rounds=n_rounds, local_epochs=local_epochs)\n",
    "\n",
    "    # Stockage heatmap\n",
    "    local_model_dict = {}\n",
    "    saved_auc_diagonal = {}\n",
    "    saved_auc_federated = {}\n",
    "\n",
    "    for i, name in enumerate(client_names):\n",
    "        print(f\"\\n🔵 Évaluation du client : {name}\")\n",
    "        df = df_split[i]\n",
    "\n",
    "        # local\n",
    "        local_model = LocalLogisticModel(df)\n",
    "        local_model.train()\n",
    "        local_model_dict[name] = local_model\n",
    "\n",
    "        y_true = local_model.y_test\n",
    "        y_scores_local = local_model.predict_proba()\n",
    "        coefs_local = local_model.get_coefficients()\n",
    "        exposure_test = local_model.exposure_test\n",
    "\n",
    "        auc_local = roc_auc_score(y_true, y_scores_local, sample_weight=exposure_test)\n",
    "        ap_local = average_precision_score(y_true, y_scores_local, sample_weight=exposure_test)\n",
    "        saved_auc_diagonal[name] = auc_local\n",
    "\n",
    "        # global (FedAvg)\n",
    "        fed_model = client_dicts[i][\"lr\"]\n",
    "        fed_model.set_coefficients(global_history[-1])\n",
    "        coefs_global = fed_model.get_coefficients()\n",
    "\n",
    "        X_scaled = local_model.scaler.transform(local_model.X_test)\n",
    "        y_scores_global = fed_model.model.predict_proba(X_scaled)[:, 1] * exposure_test.values\n",
    "\n",
    "        auc_global = roc_auc_score(y_true, y_scores_global, sample_weight=exposure_test)\n",
    "        ap_global = average_precision_score(y_true, y_scores_global, sample_weight=exposure_test)\n",
    "        saved_auc_federated[name] = auc_global\n",
    "\n",
    "        print(f\"🧪 AUC Local: {auc_local:.4f} — AUC Global: {auc_global:.4f}\")\n",
    "\n",
    "        # Graphe comparaison\n",
    "        fig = plt.figure(figsize=(14, 12))\n",
    "        compare_logistic_models(\n",
    "            y_true=y_true,\n",
    "            y_scores_local=y_scores_local,\n",
    "            coeff_dict_local=coefs_local,\n",
    "            y_scores_global=y_scores_global,\n",
    "            coeff_dict_global=coefs_global,\n",
    "            name=name,\n",
    "            auc_local=auc_local,\n",
    "            auc_global=auc_global,\n",
    "            ap_local=ap_local,\n",
    "            ap_global=ap_global,\n",
    "            save_path=f\"results/comparaison_models/comparaison_{name.lower()}.png\" \n",
    "        )\n",
    "\n",
    "\n",
    "    # Heatmap croisée\n",
    "    cross_evaluate_heatmap(\n",
    "        client_names=client_names,\n",
    "        df_split=df_split,\n",
    "        local_models=local_model_dict,\n",
    "        saved_auc_diagonal=saved_auc_diagonal,\n",
    "        saved_auc_federated=saved_auc_federated\n",
    "    )\n",
    "\n",
    "    # Évolution des coefficients\n",
    "    features = [\"Power\", \"DriverAge\", \"Fuel_type\", \"Density\", \"Sex\", \"Intercept\"]\n",
    "    for feature in features:\n",
    "        plt.figure(figsize=(12, 6))\n",
    "        plot_coeff_evolution(clients_history, global_history, coef_name=feature, client_names=client_names)\n",
    "        path = f\"results/coeffs_evolution/evolution_{feature}.png\"\n",
    "        plt.savefig(path)\n",
    "        plt.close()\n",
    "        print(f\" Courbe de '{feature}' sauvegardée : {path}\")\n",
    "\n",
    "    print(\"\\n✅ Tous les résultats sauvegardés dans 'results/'\")\n",
    "\n"
   ]
  },
  {
   "cell_type": "code",
   "execution_count": 4,
   "metadata": {},
   "outputs": [
    {
     "name": "stdout",
     "output_type": "stream",
     "text": [
      "\n",
      "--- Round fédéré 1/10---\n",
      "--> France - Entraînement local\n",
      "🔍 Meilleurs hyperparams pour ce client : {'C': np.float64(0.0001), 'penalty': 'l2', 'solver': 'lbfgs'}\n",
      "--> Belgique - Entraînement local\n",
      "🔍 Meilleurs hyperparams pour ce client : {'C': np.float64(0.0001), 'penalty': 'l2', 'solver': 'lbfgs'}\n",
      "--> Europe - Entraînement local\n",
      "🔍 Meilleurs hyperparams pour ce client : {'C': np.float64(0.005994842503189409), 'penalty': 'l2', 'solver': 'lbfgs'}\n",
      "\n",
      "📊 Poids des datasets dans la moyenne fédérée :\n",
      " - France: 30.09%\n",
      " - Belgique: 4.50%\n",
      " - Europe: 65.41%\n",
      "\n",
      "--- Round fédéré 2/10---\n",
      "--> France - Entraînement local\n",
      "--> Belgique - Entraînement local\n",
      "--> Europe - Entraînement local\n",
      "\n",
      "📊 Poids des datasets dans la moyenne fédérée :\n",
      " - France: 30.09%\n",
      " - Belgique: 4.50%\n",
      " - Europe: 65.41%\n",
      "\n",
      "--- Round fédéré 3/10---\n",
      "--> France - Entraînement local\n",
      "--> Belgique - Entraînement local\n",
      "--> Europe - Entraînement local\n",
      "\n",
      "📊 Poids des datasets dans la moyenne fédérée :\n",
      " - France: 30.09%\n",
      " - Belgique: 4.50%\n",
      " - Europe: 65.41%\n",
      "\n",
      "--- Round fédéré 4/10---\n",
      "--> France - Entraînement local\n",
      "--> Belgique - Entraînement local\n",
      "--> Europe - Entraînement local\n",
      "\n",
      "📊 Poids des datasets dans la moyenne fédérée :\n",
      " - France: 30.09%\n",
      " - Belgique: 4.50%\n",
      " - Europe: 65.41%\n",
      "\n",
      "--- Round fédéré 5/10---\n",
      "--> France - Entraînement local\n",
      "--> Belgique - Entraînement local\n",
      "--> Europe - Entraînement local\n",
      "\n",
      "📊 Poids des datasets dans la moyenne fédérée :\n",
      " - France: 30.09%\n",
      " - Belgique: 4.50%\n",
      " - Europe: 65.41%\n",
      "\n",
      "--- Round fédéré 6/10---\n",
      "--> France - Entraînement local\n",
      "--> Belgique - Entraînement local\n",
      "--> Europe - Entraînement local\n",
      "\n",
      "📊 Poids des datasets dans la moyenne fédérée :\n",
      " - France: 30.09%\n",
      " - Belgique: 4.50%\n",
      " - Europe: 65.41%\n",
      "\n",
      "--- Round fédéré 7/10---\n",
      "--> France - Entraînement local\n",
      "--> Belgique - Entraînement local\n",
      "--> Europe - Entraînement local\n",
      "\n",
      "📊 Poids des datasets dans la moyenne fédérée :\n",
      " - France: 30.09%\n",
      " - Belgique: 4.50%\n",
      " - Europe: 65.41%\n",
      "\n",
      "--- Round fédéré 8/10---\n",
      "--> France - Entraînement local\n",
      "--> Belgique - Entraînement local\n",
      "--> Europe - Entraînement local\n",
      "\n",
      "📊 Poids des datasets dans la moyenne fédérée :\n",
      " - France: 30.09%\n",
      " - Belgique: 4.50%\n",
      " - Europe: 65.41%\n",
      "\n",
      "--- Round fédéré 9/10---\n",
      "--> France - Entraînement local\n",
      "--> Belgique - Entraînement local\n",
      "--> Europe - Entraînement local\n",
      "\n",
      "📊 Poids des datasets dans la moyenne fédérée :\n",
      " - France: 30.09%\n",
      " - Belgique: 4.50%\n",
      " - Europe: 65.41%\n",
      "\n",
      "--- Round fédéré 10/10---\n",
      "--> France - Entraînement local\n",
      "--> Belgique - Entraînement local\n",
      "--> Europe - Entraînement local\n",
      "\n",
      "📊 Poids des datasets dans la moyenne fédérée :\n",
      " - France: 30.09%\n",
      " - Belgique: 4.50%\n",
      " - Europe: 65.41%\n",
      "\n",
      "🔵 Évaluation du client : France\n"
     ]
    },
    {
     "name": "stderr",
     "output_type": "stream",
     "text": [
      "/Users/nayelbenabdesadok/opt/anaconda3/envs/fed_learning/lib/python3.12/site-packages/sklearn/utils/validation.py:2739: UserWarning: X does not have valid feature names, but LogisticRegression was fitted with feature names\n",
      "  warnings.warn(\n"
     ]
    },
    {
     "name": "stdout",
     "output_type": "stream",
     "text": [
      "🧪 AUC Local: 0.5538 — AUC Global: 0.5420\n",
      "✅ Figure sauvegardée dans results/comparaison_models/comparaison_france.png\n",
      "\n",
      "🔵 Évaluation du client : Belgique\n",
      "🧪 AUC Local: 0.5645 — AUC Global: 0.5399\n"
     ]
    },
    {
     "name": "stderr",
     "output_type": "stream",
     "text": [
      "/Users/nayelbenabdesadok/opt/anaconda3/envs/fed_learning/lib/python3.12/site-packages/sklearn/utils/validation.py:2739: UserWarning: X does not have valid feature names, but LogisticRegression was fitted with feature names\n",
      "  warnings.warn(\n"
     ]
    },
    {
     "name": "stdout",
     "output_type": "stream",
     "text": [
      "✅ Figure sauvegardée dans results/comparaison_models/comparaison_belgique.png\n",
      "\n",
      "🔵 Évaluation du client : Europe\n"
     ]
    },
    {
     "name": "stderr",
     "output_type": "stream",
     "text": [
      "/Users/nayelbenabdesadok/opt/anaconda3/envs/fed_learning/lib/python3.12/site-packages/sklearn/utils/validation.py:2739: UserWarning: X does not have valid feature names, but LogisticRegression was fitted with feature names\n",
      "  warnings.warn(\n"
     ]
    },
    {
     "name": "stdout",
     "output_type": "stream",
     "text": [
      "🧪 AUC Local: 0.5729 — AUC Global: 0.5697\n",
      "✅ Figure sauvegardée dans results/comparaison_models/comparaison_europe.png\n"
     ]
    },
    {
     "name": "stderr",
     "output_type": "stream",
     "text": [
      "/Users/nayelbenabdesadok/GitProjects/Federated_Learning_Milliman/code/plots.py:105: UserWarning: Glyph 127757 (\\N{EARTH GLOBE EUROPE-AFRICA}) missing from font(s) DejaVu Sans.\n",
      "  plt.tight_layout()\n",
      "/Users/nayelbenabdesadok/GitProjects/Federated_Learning_Milliman/code/plots.py:106: UserWarning: Glyph 127757 (\\N{EARTH GLOBE EUROPE-AFRICA}) missing from font(s) DejaVu Sans.\n",
      "  plt.savefig(\"results/heatmap_auc_croisée.png\")\n"
     ]
    },
    {
     "data": {
      "text/plain": [
       "<Figure size 1400x1200 with 0 Axes>"
      ]
     },
     "metadata": {},
     "output_type": "display_data"
    },
    {
     "data": {
      "text/plain": [
       "<Figure size 1400x1200 with 0 Axes>"
      ]
     },
     "metadata": {},
     "output_type": "display_data"
    },
    {
     "data": {
      "text/plain": [
       "<Figure size 1400x1200 with 0 Axes>"
      ]
     },
     "metadata": {},
     "output_type": "display_data"
    },
    {
     "name": "stderr",
     "output_type": "stream",
     "text": [
      "/Users/nayelbenabdesadok/opt/anaconda3/envs/fed_learning/lib/python3.12/site-packages/IPython/core/pylabtools.py:170: UserWarning: Glyph 127757 (\\N{EARTH GLOBE EUROPE-AFRICA}) missing from font(s) DejaVu Sans.\n",
      "  fig.canvas.print_figure(bytes_io, **kw)\n"
     ]
    },
    {
     "data": {
      "image/png": "[encoded data removed]",
      "text/plain": [
       "<Figure size 1000x600 with 2 Axes>"
      ]
     },
     "metadata": {},
     "output_type": "display_data"
    },
    {
     "name": "stdout",
     "output_type": "stream",
     "text": [
      " Courbe de 'Power' sauvegardée : results/coeffs_evolution/evolution_Power.png\n",
      " Courbe de 'DriverAge' sauvegardée : results/coeffs_evolution/evolution_DriverAge.png\n",
      " Courbe de 'Fuel_type' sauvegardée : results/coeffs_evolution/evolution_Fuel_type.png\n",
      " Courbe de 'Density' sauvegardée : results/coeffs_evolution/evolution_Density.png\n",
      " Courbe de 'Sex' sauvegardée : results/coeffs_evolution/evolution_Sex.png\n",
      " Courbe de 'Intercept' sauvegardée : results/coeffs_evolution/evolution_Intercept.png\n",
      "\n",
      "✅ Tous les résultats sauvegardés dans 'results/'\n"
     ]
    },
    {
     "data": {
      "text/plain": [
       "<Figure size 1200x600 with 0 Axes>"
      ]
     },
     "metadata": {},
     "output_type": "display_data"
    },
    {
     "data": {
      "text/plain": [
       "<Figure size 1200x600 with 0 Axes>"
      ]
     },
     "metadata": {},
     "output_type": "display_data"
    },
    {
     "data": {
      "text/plain": [
       "<Figure size 1200x600 with 0 Axes>"
      ]
     },
     "metadata": {},
     "output_type": "display_data"
    },
    {
     "data": {
      "text/plain": [
       "<Figure size 1200x600 with 0 Axes>"
      ]
     },
     "metadata": {},
     "output_type": "display_data"
    },
    {
     "data": {
      "text/plain": [
       "<Figure size 1200x600 with 0 Axes>"
      ]
     },
     "metadata": {},
     "output_type": "display_data"
    },
    {
     "data": {
      "text/plain": [
       "<Figure size 1200x600 with 0 Axes>"
      ]
     },
     "metadata": {},
     "output_type": "display_data"
    }
   ],
   "source": [
    "main_federated_evaluation()"
   ]
  },
  {
   "cell_type": "code",
   "execution_count": null,
   "metadata": {},
   "outputs": [],
   "source": []
  },
  {
   "cell_type": "code",
   "execution_count": null,
   "metadata": {},
   "outputs": [],
   "source": []
  }
 ],
 "metadata": {
  "kernelspec": {
   "display_name": "fed_learning",
   "language": "python",
   "name": "python3"
  },
  "language_info": {
   "codemirror_mode": {
    "name": "ipython",
    "version": 3
   },
   "file_extension": ".py",
   "mimetype": "text/x-python",
   "name": "python",
   "nbconvert_exporter": "python",
   "pygments_lexer": "ipython3",
   "version": "3.12.8"
  }
 },
 "nbformat": 4,
 "nbformat_minor": 2
}
