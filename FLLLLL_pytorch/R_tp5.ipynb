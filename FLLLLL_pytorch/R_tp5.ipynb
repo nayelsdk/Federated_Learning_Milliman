{
 "cells": [
  {
   "cell_type": "code",
   "execution_count": 1,
   "metadata": {
    "vscode": {
     "languageId": "r"
    }
   },
   "outputs": [
    {
     "ename": "ERROR",
     "evalue": "Error in setwd(chemin): cannot change working directory\n",
     "output_type": "error",
     "traceback": [
      "Error in setwd(chemin): cannot change working directory\nTraceback:\n",
      "1. .handleSimpleError(function (cnd) \n . {\n .     watcher$capture_plot_and_output()\n .     cnd <- sanitize_call(cnd)\n .     watcher$push(cnd)\n .     switch(on_error, continue = invokeRestart(\"eval_continue\"), \n .         stop = invokeRestart(\"eval_stop\"), error = NULL)\n . }, \"cannot change working directory\", base::quote(setwd(chemin)))"
     ]
    }
   ],
   "source": [
    "chemin <- \"C:/Users/csaurel/Desktop/THESE/Cours_Ensae/STL\"\n",
    "setwd(chemin)\n"
   ]
  },
  {
   "cell_type": "code",
   "execution_count": 2,
   "metadata": {
    "vscode": {
     "languageId": "r"
    }
   },
   "outputs": [
    {
     "ename": "ERROR",
     "evalue": "Error in parse(text = input): <text>:3:9: unexpected symbol\n2: # Q1 ####\n3: fichier de\n           ^\n",
     "output_type": "error",
     "traceback": [
      "Error in parse(text = input): <text>:3:9: unexpected symbol\n2: # Q1 ####\n3: fichier de\n           ^\nTraceback:\n"
     ]
    }
   ],
   "source": [
    "\n",
    "# Q1 ####\n",
    "fichier de données <- \"data_tp5.csv\"\n",
    "données <- read.csv(fichier de données, sep=\";\")\n"
   ]
  },
  {
   "cell_type": "code",
   "execution_count": 3,
   "metadata": {
    "vscode": {
     "languageId": "r"
    }
   },
   "outputs": [
    {
     "ename": "ERROR",
     "evalue": "Error in parse(text = input): <text>:7:39: unexpected '<'\n6: queue(dates_char,1) #\n7: dates <- as.yearmon(seq(de=1986+2/12, <\n                                         ^\n",
     "output_type": "error",
     "traceback": [
      "Error in parse(text = input): <text>:7:39: unexpected '<'\n6: queue(dates_char,1) #\n7: dates <- as.yearmon(seq(de=1986+2/12, <\n                                         ^\nTraceback:\n"
     ]
    }
   ],
   "source": [
    "\n",
    "# Q2 ####\n",
    "exiger(zoo)\n",
    "dates_char <- as.character(data$dates)\n",
    "dates_char[1] #\n",
    "queue(dates_char,1) #\n",
    "dates <- as.yearmon(seq(de=1986+2/12, à=2007+3/12, par=1/12)) #\n",
    "propagation <- zoo(données$spread, order.by=dates)\n",
    "dspread <- diff(spread,1)\n",
    "plot(cbind(spread,dspread))\n",
    "#\n",
    "#\n"
   ]
  },
  {
   "cell_type": "code",
   "execution_count": 4,
   "metadata": {
    "vscode": {
     "languageId": "r"
    }
   },
   "outputs": [
    {
     "ename": "ERROR",
     "evalue": "Error in parse(text = input): <text>:3:9: unexpected '>'\n2: # Q3 ####\n3: r<U+00E9>\n           ^\n",
     "output_type": "error",
     "traceback": [
      "Error in parse(text = input): <text>:3:9: unexpected '>'\n2: # Q3 ####\n3: r<U+00E9>\n           ^\nTraceback:\n"
     ]
    }
   ],
   "source": [
    "\n",
    "# Q3 ####\n",
    "résumé(lm(spread ~ dates))\n",
    "#\n",
    "install.packages(\"fUnitRoots\")#tests de racine unitaire plus modulables\n",
    "bibliothèque(fUnitRoots)\n",
    "# require(fUnitRoots)\n",
    "adf <- adfTest(spread, lag=0, type=\"ct\") #\n",
    "adf\n",
    "#\n",
    "Qtests <- function(série, k, fitdf=0) {\n",
    "  pvals <- apply(matrice(1:k), 1, FUN=fonction(l) {\n",
    "    pval <- if (l<=fitdf) NA else Box.test(série, lag=l, type=\"Ljung-Box\", fitdf=fitdf)$p.value\n",
    "    retour(c(\"lag\"=l,\"pval\"=pval))\n",
    "  })\n",
    "  retour(t(pvals))\n",
    "}\n",
    "?adfTest\n",
    "str(adf)\n",
    "Qtests(adf@test$lm$résidus, 24, fitdf = longueur(adf@test$lm$coefficients))\n",
    "#\n",
    "#\n",
    "série <- spread; kmax <- 24; adftype=\"ct\"\n",
    "adfTest_valid <- function(série, kmax, adftype){\n",
    "  k <- 0\n",
    "  pas d'autocorr <- 0\n",
    "  tandis que (noautocorr==0){\n",
    "    cat(paste0(\"ADF avec \",k,\" décalages : résidus OK ? \"))\n",
    "    adf <- adfTest(série, décalages=k, type=adftype)\n",
    "    pvals <- Qtests(adf@test$lm$residuals, 24, fitdf = length(adf@test$lm$coefficients))[,2]\n",
    "    si (somme(pvals<0,05,na.rm=T)==0) {\n",
    "      noautocorr <- 1; cat(\"OK \\n\")\n",
    "    } else cat(\"non \\n\")\n",
    "    k <- k+1\n",
    "  }\n",
    "  retour(adf)\n",
    "}\n",
    "adf <- adfTest_valid(spread,24,adftype=\"ct\")\n",
    "#\n",
    "Qtests(adf@test$lm$résidus, 24, fitdf = longueur(adf@test$lm$coefficients))\n",
    "#\n",
    "adf\n",
    "#\n",
    "résumé(lm(dspread ~ dates[-1]))\n",
    "#\n",
    "adf <- adfTest_valid(dspread,24,\"nc\")\n",
    "#\n",
    "Qtests(adf@test$lm$résidus, 24, fitdf = longueur(adf@test$lm$coefficients))\n",
    "adf\n",
    "#\n"
   ]
  },
  {
   "cell_type": "code",
   "execution_count": null,
   "metadata": {
    "vscode": {
     "languageId": "r"
    }
   },
   "outputs": [],
   "source": [
    "\n",
    "# Q4 ####\n",
    "par(mfrow=c(1,2))\n",
    "pacf(dspread,24);acf(dspread,24) #on regarde jusqu'? deux ans de retard\n",
    "#\n",
    "#\n",
    "pmax=3;qmax=3\n",
    "\n",
    "# Q5 ####\n",
    "pqs <- expand.grid(0:pmax,0:qmax) #combinaisons possibles de p<=p* et q<=q*\n",
    "mat <- matrice (NA, nrow=pmax+1, ncol=pmax+1)\n",
    "rownames(mat) <- paste0(\"p=\",0:pmax) #renomme les lignes\n",
    "colnames(mat) <- paste0(\"q=\",0:pmax) #renomme les colonnes\n",
    "AICs <- mat #matrice ou assigner les AIC\n",
    "BICs <- mat #matrice ou assigner les BIC\n",
    "pour (ligne dans 1:dim(pqs)[1]){\n",
    "  p <- pqs[ligne,1]\n",
    "  q <- pqs[ligne,2]\n",
    "  estim <- try(arima(dspread,c(p,0,q), include.mean=F)) #tente d'estimer l'ARIMA\n",
    "  AICs[p+1,q+1] <- if (class(estim)==\"try-error\") NA else estim$aic\n",
    "  BICs[p+1,q+1] <- if (class(estim)==\"try-error\") NA else BIC(estim)\n",
    "}\n",
    "AIC\n",
    "BIC\n",
    "AIC==min(AIC)\n",
    "#\n",
    "BIC==min(BIC)\n",
    "#\n",
    "arima310 <- arima(spread,c(3,1,0),include.mean=F)\n",
    "arima011 <- arima(spread,c(0,1,1),include.mean=F)\n",
    "\n",
    "# Q6 ####\n",
    "arima310\n",
    "#\n",
    "arima011\n",
    "#\n",
    "# Q7 ####\n",
    "Qtests(arima310$résidus, 24, fitdf=3)\n",
    "#\n",
    "Qtests(arima011$résidus, 24, fitdf=1)\n",
    "#\n",
    "#\n",
    "\n",
    "# Q8 ####\n",
    "#\n",
    "\n",
    "\n",
    "# Q9 ####\n",
    "adj_r2 <- fonction(modèle){\n",
    "  ss_res <- somme(modèle$résidus^2)\n",
    "  ss_tot <- somme(dspread[-c(1:max(p,q))]^2)\n",
    "  p <- modèle$arma[1]\n",
    "  q <- modèle$arma[2]\n",
    "  n <- modèle$nobs-max(p,q)\n",
    "  adj_r2 <- 1-(ss_res/(npq-1))/(ss_tot/(n-1))\n",
    "  retour(adj_r2)\n",
    "}\n",
    "adj_r2(arima310)\n",
    "adj_r2(arima011)\n",
    "#\n",
    "\n",
    "dev.off()\n",
    "plot(arima310$résidus)\n",
    "axe(côté=1,2001+11/12)\n",
    "#\n",
    "\n",
    "# Q10 ####\n",
    "#.\n",
    "#\n",
    "point d'arrêt <- c(1:longueur(dates))[dates==1995]\n",
    "ap1995 <- c(rep(0,point d'arrêt-1),rep(1,longueur(dates)-point d'arrêt+1))\n",
    "arima(spread,c(3,1,0),xreg=ap1995,include.mean=F)\n",
    "intrigue (étalée)\n",
    "#\n"
   ]
  }
 ],
 "metadata": {
  "kernelspec": {
   "display_name": "R",
   "language": "R",
   "name": "ir"
  },
  "language_info": {
   "codemirror_mode": "r",
   "file_extension": ".r",
   "mimetype": "text/x-r-source",
   "name": "R",
   "pygments_lexer": "r",
   "version": "4.4.3"
  }
 },
 "nbformat": 4,
 "nbformat_minor": 2
}
