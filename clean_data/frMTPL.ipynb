{
 "cells": [
  {
   "cell_type": "code",
   "execution_count": 43,
   "metadata": {},
   "outputs": [],
   "source": [
    "import pandas as pd\n",
    "import pyreadr\n",
    "import numpy as np"
   ]
  },
  {
   "cell_type": "code",
   "execution_count": 44,
   "metadata": {},
   "outputs": [],
   "source": [
    "def load_rda(file_paths):\n",
    "\n",
    "  dataframes = {}\n",
    "\n",
    "  for file_path in file_paths:\n",
    "      result = pyreadr.read_r(file_path)\n",
    "\n",
    "      for key in result.keys():\n",
    "          dataframes[key] = result[key]\n",
    "\n",
    "  return dataframes"
   ]
  },
  {
   "cell_type": "code",
   "execution_count": 45,
   "metadata": {},
   "outputs": [],
   "source": [
    "def missing_values(df):\n",
    "  return(df.isnull().sum())"
   ]
  },
  {
   "cell_type": "code",
   "execution_count": 46,
   "metadata": {},
   "outputs": [],
   "source": [
    "def outlier_values(df):\n",
    "    outliers = pd.Series(dtype=\"float64\")\n",
    "\n",
    "    for col in df.select_dtypes(include=[\"number\"]):  \n",
    "        Q1 = df[col].quantile(0.25)\n",
    "        Q3 = df[col].quantile(0.75)\n",
    "        IQR = Q3 - Q1\n",
    "\n",
    "        mask = (df[col] < (Q1 - 1.5 * IQR)) | (df[col] > (Q3 + 1.5 * IQR))\n",
    "        outliers[col] = mask.mean() * 100  \n",
    "    return outliers"
   ]
  },
  {
   "cell_type": "code",
   "execution_count": 47,
   "metadata": {},
   "outputs": [],
   "source": [
    "def clean_data(data_dict):\n",
    "    cleaned_dict = {}\n",
    "    for key, df in data_dict.items():\n",
    "        df_cleaned = df.drop_duplicates()\n",
    "        if 'RecordBeg' in df_cleaned.columns:\n",
    "            df_cleaned.loc[:, 'RecordBeg'] = pd.to_datetime(df_cleaned['RecordBeg'], errors='coerce')\n",
    "        if 'RecordEnd' in df_cleaned.columns:\n",
    "            df_cleaned.loc[:, 'RecordEnd'] = pd.to_datetime(df_cleaned['RecordEnd'], errors='coerce')\n",
    "\n",
    "        cleaned_dict[key] = df_cleaned\n",
    "\n",
    "    return cleaned_dict"
   ]
  },
  {
   "cell_type": "code",
   "execution_count": 48,
   "metadata": {},
   "outputs": [],
   "source": [
    "df_freMTPL1 = pd.read_csv(\"../raw_data/freMTPL1.csv\")\n",
    "df_freMTPL2 = pd.read_csv(\"../raw_data/freMTPL2.csv\")"
   ]
  },
  {
   "cell_type": "code",
   "execution_count": 49,
   "metadata": {},
   "outputs": [],
   "source": [
    "letter_to_power = {\n",
    "    'd': 10, 'e': 30, 'f': 40, 'g': 43, 'h': 50, 'i': 53,\n",
    "    'j': 56, 'k': 60, 'l': 66, 'm': 80, 'n': 100, 'o': 120\n",
    "}\n",
    "\n",
    "# Transformation de la colonne 'Power' dans df_freMTPL1\n",
    "df_freMTPL1['Power'] = df_freMTPL1['Power'].map(letter_to_power).astype('int32')"
   ]
  },
  {
   "cell_type": "code",
   "execution_count": 50,
   "metadata": {},
   "outputs": [
    {
     "name": "stdout",
     "output_type": "stream",
     "text": [
      "Index(['PolicyID', 'ClaimAmount', 'ClaimNb', 'Exposure', 'Power', 'CarAge',\n",
      "       'DriverAge', 'Brand', 'Gas', 'Region', 'Density'],\n",
      "      dtype='object')\n",
      "Index(['IDpol', 'ClaimAmount', 'ClaimNb', 'Exposure', 'VehPower', 'VehAge',\n",
      "       'DrivAge', 'BonusMalus', 'VehBrand', 'VehGas', 'Area', 'Density',\n",
      "       'Region'],\n",
      "      dtype='object')\n"
     ]
    }
   ],
   "source": [
    "print(df_freMTPL1.columns)\n",
    "print(df_freMTPL2.columns)"
   ]
  },
  {
   "cell_type": "code",
   "execution_count": 51,
   "metadata": {},
   "outputs": [],
   "source": [
    "df_freMTPL1 = df_freMTPL1.rename(columns={\n",
    "    \"PolicyID\": \"IdPolicy\",\n",
    "    \"Power\": \"power\",\n",
    "    \"CarAge\": \"CarAge\",\n",
    "    \"DriverAge\": \"DriverAge\",\n",
    "    \"Brand\": \"CarBrand\",\n",
    "    \"Gas\": \"CarGas\"\n",
    "})\n",
    "\n",
    "df_freMTPL2 = df_freMTPL2.rename(columns={\n",
    "    \"IDpol\": \"IdPolicy\",\n",
    "    \"VehPower\": \"power\",\n",
    "    \"VehAge\": \"CarAge\",\n",
    "    \"DrivAge\": \"DriverAge\",\n",
    "    \"VehBrand\": \"CarBrand\",\n",
    "    \"VehGas\": \"CarGas\"\n",
    "})\n",
    "\n",
    "df_freMTPL2 = df_freMTPL2.drop(columns=[\"BonusMalus\", \"Area\"])\n",
    "\n",
    "columns_order = [\"Exposure\", \"IdPolicy\", \"ClaimAmount\", \"ClaimNb\", \"power\", \"CarAge\", \n",
    "                 \"DriverAge\", \"CarBrand\", \"CarGas\", \"Region\", \"Density\"]\n",
    "\n",
    "df_freMTPL1 = df_freMTPL1[columns_order]\n",
    "df_freMTPL2 = df_freMTPL2[columns_order]\n"
   ]
  },
  {
   "cell_type": "code",
   "execution_count": 52,
   "metadata": {},
   "outputs": [],
   "source": [
    "df_freMTPL = pd.concat([df_freMTPL1, df_freMTPL2], ignore_index=True)\n",
    "df_freMTPL['Sinistre'] = (df_freMTPL['ClaimAmount'] > 3000).astype(int)\n",
    "\n",
    "\n",
    "\n",
    "# sexe généré artificiemment(femme=0 - 51%, homme=1 - 49%)\n",
    "df_freMTPL['Sex'] = np.random.choice(['0', '1'], size=df_freMTPL.shape[0], p=[0.51, 0.49])"
   ]
  },
  {
   "cell_type": "markdown",
   "metadata": {},
   "source": []
  },
  {
   "cell_type": "code",
   "execution_count": null,
   "metadata": {},
   "outputs": [],
   "source": []
  },
  {
   "cell_type": "code",
   "execution_count": 53,
   "metadata": {},
   "outputs": [],
   "source": [
    "features = [\"Exposure\", 'power', 'DriverAge', \"CarGas\", \"Density\", \"Sex\", 'Sinistre']\n",
    "df_freMTPL = df_freMTPL[features]"
   ]
  },
  {
   "cell_type": "code",
   "execution_count": 54,
   "metadata": {},
   "outputs": [],
   "source": [
    "\n",
    "df_freMTPL = df_freMTPL.rename(columns={\n",
    "    'IdPolicy': 'Id_policy',\n",
    "    'ClaimAmount': 'ClaimAmount',\n",
    "    'ClaimNb': 'ClaimNb',\n",
    "    'Exposure': 'Exposure',\n",
    "    'power': 'Power',\n",
    "    'DriverAge': 'DriverAge',\n",
    "    'CarGas': 'Fuel_type'\n",
    "})\n",
    "#  Diesel (1) et Regular (0) dans df_beMTPL\n",
    "df_freMTPL['Fuel_type'] = df_freMTPL['Fuel_type'].apply(lambda x: 1 if x == 'Diesel' else 0)\n"
   ]
  },
  {
   "cell_type": "code",
   "execution_count": 55,
   "metadata": {},
   "outputs": [
    {
     "data": {
      "text/html": [
       "<div>\n",
       "<style scoped>\n",
       "    .dataframe tbody tr th:only-of-type {\n",
       "        vertical-align: middle;\n",
       "    }\n",
       "\n",
       "    .dataframe tbody tr th {\n",
       "        vertical-align: top;\n",
       "    }\n",
       "\n",
       "    .dataframe thead th {\n",
       "        text-align: right;\n",
       "    }\n",
       "</style>\n",
       "<table border=\"1\" class=\"dataframe\">\n",
       "  <thead>\n",
       "    <tr style=\"text-align: right;\">\n",
       "      <th></th>\n",
       "      <th>Exposure</th>\n",
       "      <th>Power</th>\n",
       "      <th>DriverAge</th>\n",
       "      <th>Fuel_type</th>\n",
       "      <th>Density</th>\n",
       "      <th>Sex</th>\n",
       "      <th>Sinistre</th>\n",
       "    </tr>\n",
       "  </thead>\n",
       "  <tbody>\n",
       "    <tr>\n",
       "      <th>0</th>\n",
       "      <td>0.75</td>\n",
       "      <td>43</td>\n",
       "      <td>61</td>\n",
       "      <td>0</td>\n",
       "      <td>27000</td>\n",
       "      <td>0</td>\n",
       "      <td>0</td>\n",
       "    </tr>\n",
       "    <tr>\n",
       "      <th>1</th>\n",
       "      <td>0.14</td>\n",
       "      <td>66</td>\n",
       "      <td>50</td>\n",
       "      <td>1</td>\n",
       "      <td>56</td>\n",
       "      <td>0</td>\n",
       "      <td>0</td>\n",
       "    </tr>\n",
       "    <tr>\n",
       "      <th>2</th>\n",
       "      <td>0.14</td>\n",
       "      <td>10</td>\n",
       "      <td>36</td>\n",
       "      <td>0</td>\n",
       "      <td>4792</td>\n",
       "      <td>0</td>\n",
       "      <td>0</td>\n",
       "    </tr>\n",
       "    <tr>\n",
       "      <th>3</th>\n",
       "      <td>0.62</td>\n",
       "      <td>56</td>\n",
       "      <td>51</td>\n",
       "      <td>0</td>\n",
       "      <td>27000</td>\n",
       "      <td>1</td>\n",
       "      <td>1</td>\n",
       "    </tr>\n",
       "    <tr>\n",
       "      <th>4</th>\n",
       "      <td>0.62</td>\n",
       "      <td>56</td>\n",
       "      <td>51</td>\n",
       "      <td>0</td>\n",
       "      <td>27000</td>\n",
       "      <td>1</td>\n",
       "      <td>0</td>\n",
       "    </tr>\n",
       "    <tr>\n",
       "      <th>...</th>\n",
       "      <td>...</td>\n",
       "      <td>...</td>\n",
       "      <td>...</td>\n",
       "      <td>...</td>\n",
       "      <td>...</td>\n",
       "      <td>...</td>\n",
       "      <td>...</td>\n",
       "    </tr>\n",
       "    <tr>\n",
       "      <th>42620</th>\n",
       "      <td>0.14</td>\n",
       "      <td>7</td>\n",
       "      <td>51</td>\n",
       "      <td>1</td>\n",
       "      <td>178</td>\n",
       "      <td>0</td>\n",
       "      <td>0</td>\n",
       "    </tr>\n",
       "    <tr>\n",
       "      <th>42621</th>\n",
       "      <td>0.17</td>\n",
       "      <td>4</td>\n",
       "      <td>35</td>\n",
       "      <td>0</td>\n",
       "      <td>1719</td>\n",
       "      <td>0</td>\n",
       "      <td>0</td>\n",
       "    </tr>\n",
       "    <tr>\n",
       "      <th>42622</th>\n",
       "      <td>0.17</td>\n",
       "      <td>15</td>\n",
       "      <td>36</td>\n",
       "      <td>0</td>\n",
       "      <td>181</td>\n",
       "      <td>1</td>\n",
       "      <td>0</td>\n",
       "    </tr>\n",
       "    <tr>\n",
       "      <th>42623</th>\n",
       "      <td>0.17</td>\n",
       "      <td>15</td>\n",
       "      <td>36</td>\n",
       "      <td>0</td>\n",
       "      <td>181</td>\n",
       "      <td>1</td>\n",
       "      <td>1</td>\n",
       "    </tr>\n",
       "    <tr>\n",
       "      <th>42624</th>\n",
       "      <td>0.13</td>\n",
       "      <td>7</td>\n",
       "      <td>39</td>\n",
       "      <td>0</td>\n",
       "      <td>820</td>\n",
       "      <td>0</td>\n",
       "      <td>0</td>\n",
       "    </tr>\n",
       "  </tbody>\n",
       "</table>\n",
       "<p>42625 rows × 7 columns</p>\n",
       "</div>"
      ],
      "text/plain": [
       "       Exposure  Power  DriverAge  Fuel_type  Density Sex  Sinistre\n",
       "0          0.75     43         61          0    27000   0         0\n",
       "1          0.14     66         50          1       56   0         0\n",
       "2          0.14     10         36          0     4792   0         0\n",
       "3          0.62     56         51          0    27000   1         1\n",
       "4          0.62     56         51          0    27000   1         0\n",
       "...         ...    ...        ...        ...      ...  ..       ...\n",
       "42620      0.14      7         51          1      178   0         0\n",
       "42621      0.17      4         35          0     1719   0         0\n",
       "42622      0.17     15         36          0      181   1         0\n",
       "42623      0.17     15         36          0      181   1         1\n",
       "42624      0.13      7         39          0      820   0         0\n",
       "\n",
       "[42625 rows x 7 columns]"
      ]
     },
     "execution_count": 55,
     "metadata": {},
     "output_type": "execute_result"
    }
   ],
   "source": [
    "df_freMTPL"
   ]
  },
  {
   "cell_type": "code",
   "execution_count": 56,
   "metadata": {},
   "outputs": [],
   "source": [
    "df_freMTPL.to_csv(\"../data/french_data.csv\", index=False)"
   ]
  }
 ],
 "metadata": {
  "kernelspec": {
   "display_name": "fed_learning",
   "language": "python",
   "name": "python3"
  },
  "language_info": {
   "codemirror_mode": {
    "name": "ipython",
    "version": 3
   },
   "file_extension": ".py",
   "mimetype": "text/x-python",
   "name": "python",
   "nbconvert_exporter": "python",
   "pygments_lexer": "ipython3",
   "version": "3.12.8"
  }
 },
 "nbformat": 4,
 "nbformat_minor": 2
}
